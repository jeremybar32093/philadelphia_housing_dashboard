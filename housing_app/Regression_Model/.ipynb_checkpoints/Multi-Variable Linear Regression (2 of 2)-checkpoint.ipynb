{
 "cells": [
  {
   "cell_type": "markdown",
   "metadata": {},
   "source": [
    "# This regression script models houses that were sold for over $1,000,000."
   ]
  },
  {
   "cell_type": "code",
   "execution_count": 1,
   "metadata": {},
   "outputs": [],
   "source": [
    "# Import libraries for data manipulation\n",
    "import pandas as pd\n",
    "import matplotlib.pyplot as plt\n",
    "import numpy as np\n",
    "import seaborn as sns\n",
    "%matplotlib inline\n",
    "\n",
    "# Import libraries for regression modeling\n",
    "from sklearn.datasets import make_regression\n",
    "from sklearn.linear_model import LinearRegression"
   ]
  },
  {
   "cell_type": "code",
   "execution_count": 2,
   "metadata": {
    "scrolled": false
   },
   "outputs": [
    {
     "data": {
      "text/plain": [
       "id                       int64\n",
       "census_tract             int64\n",
       "depth                  float64\n",
       "exempt_building          int64\n",
       "exempt_land              int64\n",
       "exterior_condition       int64\n",
       "fireplaces               int64\n",
       "frontage               float64\n",
       "garage_spaces            int64\n",
       "geographic_ward          int64\n",
       "interior_condition     float64\n",
       "market_value             int64\n",
       "market_value_date      float64\n",
       "number_of_bathrooms      int64\n",
       "number_of_bedrooms       int64\n",
       "number_of_rooms          int64\n",
       "number_stories           int64\n",
       "quality_grade          float64\n",
       "sale_price               int64\n",
       "taxable_building         int64\n",
       "taxable_land             int64\n",
       "total_area             float64\n",
       "total_livable_area       int64\n",
       "year_built               int64\n",
       "zip_code                 int64\n",
       "dtype: object"
      ]
     },
     "execution_count": 2,
     "metadata": {},
     "output_type": "execute_result"
    }
   ],
   "source": [
    "# Import data from csv file\n",
    "original_data = pd.read_csv('../source_data/housing_data_cleaned.csv')\n",
    "\n",
    "df = original_data.select_dtypes(exclude=object)\n",
    "df.dtypes"
   ]
  },
  {
   "cell_type": "code",
   "execution_count": 3,
   "metadata": {},
   "outputs": [],
   "source": [
    "# Analyze houses that are over $1,000,000\n",
    "df = df.loc[df['sale_price'] > 1000000, :]"
   ]
  },
  {
   "cell_type": "code",
   "execution_count": 4,
   "metadata": {},
   "outputs": [],
   "source": [
    "data = df.copy()"
   ]
  },
  {
   "cell_type": "code",
   "execution_count": 5,
   "metadata": {},
   "outputs": [
    {
     "name": "stdout",
     "output_type": "stream",
     "text": [
      "(1103, 18)\n",
      "(1103, 1)\n"
     ]
    }
   ],
   "source": [
    "# Select categorical data values and reshape to arrays\n",
    "# sig_columns = ['market_value','number_of_rooms','total_livable_area']\n",
    "X = data.drop(['sale_price', 'depth','frontage','interior_condition','market_value_date','quality_grade','total_area'], axis=1)\n",
    "# X = data[sig_columns]\n",
    "y = data['sale_price'].values.reshape(-1, 1)\n",
    "\n",
    "print(X.shape)\n",
    "print(y.shape)"
   ]
  },
  {
   "cell_type": "code",
   "execution_count": 6,
   "metadata": {},
   "outputs": [],
   "source": [
    "# Use train_test_split to create training and testing data\n",
    "from sklearn.model_selection import train_test_split\n",
    "\n",
    "X_train, X_test, y_train, y_test = train_test_split(X, y, random_state=42)"
   ]
  },
  {
   "cell_type": "markdown",
   "metadata": {},
   "source": [
    "## Raw Data Model "
   ]
  },
  {
   "cell_type": "code",
   "execution_count": 7,
   "metadata": {},
   "outputs": [],
   "source": [
    "# Use train_test_split to create training and testing data\n",
    "from sklearn.model_selection import train_test_split\n",
    "\n",
    "X_train, X_test, y_train, y_test = train_test_split(X, y, random_state=42)"
   ]
  },
  {
   "cell_type": "code",
   "execution_count": 8,
   "metadata": {},
   "outputs": [
    {
     "data": {
      "text/plain": [
       "LinearRegression()"
      ]
     },
     "execution_count": 8,
     "metadata": {},
     "output_type": "execute_result"
    }
   ],
   "source": [
    "# Create the model using LinearRegression\n",
    "from sklearn.linear_model import LinearRegression\n",
    "model = LinearRegression()\n",
    "model"
   ]
  },
  {
   "cell_type": "code",
   "execution_count": 9,
   "metadata": {
    "scrolled": true
   },
   "outputs": [
    {
     "name": "stdout",
     "output_type": "stream",
     "text": [
      "Training Score: 0.10723\n",
      "Testing Score: 0.09789\n"
     ]
    }
   ],
   "source": [
    "model.fit(X_train, y_train)\n",
    "training_score = model.score(X_train, y_train)\n",
    "testing_score = model.score(X_test, y_test)\n",
    "\n",
    "print(f\"Training Score: {round(training_score, 5)}\")\n",
    "print(f\"Testing Score: {round(testing_score, 5)}\")"
   ]
  },
  {
   "cell_type": "code",
   "execution_count": 10,
   "metadata": {},
   "outputs": [
    {
     "data": {
      "image/png": "[encoded data removed]",
      "text/plain": [
       "<Figure size 432x288 with 1 Axes>"
      ]
     },
     "metadata": {
      "needs_background": "light"
     },
     "output_type": "display_data"
    }
   ],
   "source": [
    "# Plot trained data and test data\n",
    "plt.scatter(model.predict(X_train), y_train, c=\"blue\", label=\"Training Data\")\n",
    "plt.scatter(model.predict(X_test), y_test, c=\"orange\", label=\"Testing Data\")\n",
    "plt.legend()\n",
    "# plt.hlines(y=0, xmin=y_test.min(), xmax=y_test.max())\n",
    "plt.title(\"Residual Plot\")\n",
    "plt.show()"
   ]
  },
  {
   "cell_type": "markdown",
   "metadata": {},
   "source": [
    "## Standard Scaler Model "
   ]
  },
  {
   "cell_type": "code",
   "execution_count": 11,
   "metadata": {},
   "outputs": [],
   "source": [
    "# Create a StandardScaler model and fit it to the training data\n",
    "from sklearn.preprocessing import StandardScaler\n",
    "\n",
    "X_scaler = StandardScaler().fit(X_train)\n",
    "y_scaler = StandardScaler().fit(y_train)"
   ]
  },
  {
   "cell_type": "code",
   "execution_count": 12,
   "metadata": {},
   "outputs": [],
   "source": [
    "# Transform the training and testing data using the X_scaler and y_scaler models\n",
    "X_train_scaled = X_scaler.transform(X_train)\n",
    "X_test_scaled = X_scaler.transform(X_test)\n",
    "y_train_scaled = y_scaler.transform(y_train)\n",
    "y_test_scaled = y_scaler.transform(y_test)"
   ]
  },
  {
   "cell_type": "code",
   "execution_count": 13,
   "metadata": {},
   "outputs": [
    {
     "data": {
      "text/plain": [
       "LinearRegression()"
      ]
     },
     "execution_count": 13,
     "metadata": {},
     "output_type": "execute_result"
    }
   ],
   "source": [
    "# Create a LinearRegression model and fit it to the scaled training data\n",
    "model = LinearRegression()\n",
    "model.fit(X_train_scaled, y_train_scaled)"
   ]
  },
  {
   "cell_type": "code",
   "execution_count": 14,
   "metadata": {},
   "outputs": [
    {
     "data": {
      "text/plain": [
       "array([[-1.58814131e-01, -4.06562121e-02,  8.09210690e-02,\n",
       "         8.32667268e-17, -1.85400473e-01, -1.57294867e-02,\n",
       "        -9.73510193e-02,  1.58490043e-01, -1.39380074e-02,\n",
       "        -7.39713079e-02,  2.71860276e-02, -1.04384666e-01,\n",
       "         1.49052635e-02, -5.19665453e-02, -1.93075425e-01,\n",
       "         2.89856233e-01, -7.94464917e-02,  2.24815975e-02]])"
      ]
     },
     "execution_count": 14,
     "metadata": {},
     "output_type": "execute_result"
    }
   ],
   "source": [
    "model.coef_"
   ]
  },
  {
   "cell_type": "code",
   "execution_count": 15,
   "metadata": {},
   "outputs": [
    {
     "data": {
      "image/png": "[encoded data removed]",
      "text/plain": [
       "<Figure size 432x288 with 1 Axes>"
      ]
     },
     "metadata": {
      "needs_background": "light"
     },
     "output_type": "display_data"
    }
   ],
   "source": [
    "predictions = model.predict(X_test_scaled)\n",
    "model.fit(X_train_scaled, y_train_scaled)\n",
    "plt.scatter(model.predict(X_train_scaled), y_train_scaled, c=\"blue\", label=\"Training Data\")\n",
    "plt.scatter(model.predict(X_test_scaled), y_test_scaled, c=\"orange\", label=\"Testing Data\")\n",
    "plt.legend()\n",
    "# plt.hlines(y=0, xmin=y_test_scaled.min(), xmax=y_test_scaled.max())\n",
    "plt.title(\"Residual Plot\")\n",
    "plt.show()"
   ]
  },
  {
   "cell_type": "code",
   "execution_count": 16,
   "metadata": {},
   "outputs": [
    {
     "name": "stdout",
     "output_type": "stream",
     "text": [
      "MSE: 1.25393, R2: 0.09789\n"
     ]
    }
   ],
   "source": [
    "# Used X_test_scaled, y_test_scaled, and model.predict(X_test_scaled) to calculate MSE and R2\n",
    "from sklearn.metrics import mean_squared_error\n",
    "\n",
    "MSE_LR = mean_squared_error(y_test_scaled, predictions)\n",
    "r2_LR = model.score(X_test_scaled, y_test_scaled)\n",
    "\n",
    "print(f\"MSE: {round(MSE_LR,5)}, R2: {round(r2_LR,5)}\")"
   ]
  },
  {
   "cell_type": "markdown",
   "metadata": {},
   "source": [
    "## LASSO Model"
   ]
  },
  {
   "cell_type": "code",
   "execution_count": 17,
   "metadata": {},
   "outputs": [
    {
     "name": "stdout",
     "output_type": "stream",
     "text": [
      "MSE: 1.27082, R2: 0.08574\n"
     ]
    }
   ],
   "source": [
    "from sklearn.linear_model import Lasso\n",
    "\n",
    "lasso = Lasso(alpha=0.01).fit(X_train_scaled, y_train_scaled)\n",
    "predictions = lasso.predict(X_test_scaled)\n",
    "\n",
    "MSE_lasso = mean_squared_error(y_test_scaled, predictions)\n",
    "r2_lasso = lasso.score(X_test_scaled, y_test_scaled)\n",
    "\n",
    "print(f\"MSE: {round(MSE_lasso,5)}, R2: {round(r2_lasso,5)}\")"
   ]
  },
  {
   "cell_type": "markdown",
   "metadata": {},
   "source": [
    "## Ridge Model"
   ]
  },
  {
   "cell_type": "code",
   "execution_count": 18,
   "metadata": {},
   "outputs": [
    {
     "name": "stdout",
     "output_type": "stream",
     "text": [
      "MSE: 1.25393, R2: 0.09789\n"
     ]
    }
   ],
   "source": [
    "from sklearn.linear_model import Ridge\n",
    "\n",
    "ridge = Ridge(alpha=.01).fit(X_train_scaled, y_train_scaled)\n",
    "\n",
    "predictions = ridge.predict(X_test_scaled)\n",
    "\n",
    "MSE_ridge = mean_squared_error(y_test_scaled, predictions)\n",
    "r2_ridge = ridge.score(X_test_scaled, y_test_scaled)\n",
    "\n",
    "print(f\"MSE: {round(MSE_ridge,5)}, R2: {round(r2_ridge,5)}\")"
   ]
  },
  {
   "cell_type": "markdown",
   "metadata": {},
   "source": [
    "## ElasticNet Model"
   ]
  },
  {
   "cell_type": "code",
   "execution_count": 19,
   "metadata": {},
   "outputs": [
    {
     "name": "stdout",
     "output_type": "stream",
     "text": [
      "MSE: 1.26308, R2: 0.09131\n"
     ]
    }
   ],
   "source": [
    "from sklearn.linear_model import ElasticNet\n",
    "\n",
    "elasticnet = ElasticNet(alpha=.01).fit(X_train_scaled, y_train_scaled)\n",
    "\n",
    "predictions = elasticnet.predict(X_test_scaled)\n",
    "\n",
    "MSE_EL = mean_squared_error(y_test_scaled, predictions)\n",
    "r2_EL = elasticnet.score(X_test_scaled, y_test_scaled)\n",
    "\n",
    "print(f\"MSE: {round(MSE_EL,5)}, R2: {round(r2_EL,5)}\")"
   ]
  },
  {
   "cell_type": "markdown",
   "metadata": {},
   "source": [
    "### Model Scores "
   ]
  },
  {
   "cell_type": "code",
   "execution_count": 20,
   "metadata": {},
   "outputs": [
    {
     "data": {
      "text/html": [
       "<div>\n",
       "<style scoped>\n",
       "    .dataframe tbody tr th:only-of-type {\n",
       "        vertical-align: middle;\n",
       "    }\n",
       "\n",
       "    .dataframe tbody tr th {\n",
       "        vertical-align: top;\n",
       "    }\n",
       "\n",
       "    .dataframe thead th {\n",
       "        text-align: right;\n",
       "    }\n",
       "</style>\n",
       "<table border=\"1\" class=\"dataframe\">\n",
       "  <thead>\n",
       "    <tr style=\"text-align: right;\">\n",
       "      <th></th>\n",
       "      <th>R2 Score</th>\n",
       "      <th>MSE Score</th>\n",
       "    </tr>\n",
       "  </thead>\n",
       "  <tbody>\n",
       "    <tr>\n",
       "      <th>Linear Regression</th>\n",
       "      <td>0.097892</td>\n",
       "      <td>1.253926</td>\n",
       "    </tr>\n",
       "    <tr>\n",
       "      <th>LASSO</th>\n",
       "      <td>0.085739</td>\n",
       "      <td>1.270818</td>\n",
       "    </tr>\n",
       "    <tr>\n",
       "      <th>Ridge</th>\n",
       "      <td>0.097891</td>\n",
       "      <td>1.253927</td>\n",
       "    </tr>\n",
       "    <tr>\n",
       "      <th>ElasticNet</th>\n",
       "      <td>0.091307</td>\n",
       "      <td>1.263078</td>\n",
       "    </tr>\n",
       "  </tbody>\n",
       "</table>\n",
       "</div>"
      ],
      "text/plain": [
       "                   R2 Score  MSE Score\n",
       "Linear Regression  0.097892   1.253926\n",
       "LASSO              0.085739   1.270818\n",
       "Ridge              0.097891   1.253927\n",
       "ElasticNet         0.091307   1.263078"
      ]
     },
     "execution_count": 20,
     "metadata": {},
     "output_type": "execute_result"
    }
   ],
   "source": [
    "r2_results = [r2_LR, r2_lasso, r2_ridge, r2_EL]\n",
    "MSE_results = [MSE_LR, MSE_lasso, MSE_ridge, MSE_EL]\n",
    "r2_indices = ['Linear Regression','LASSO','Ridge','ElasticNet']\n",
    "\n",
    "results = pd.DataFrame({\"R2 Score\": r2_results,\n",
    "                        \"MSE Score\": MSE_results}, \n",
    "                       index=[r2_indices])\n",
    "\n",
    "results"
   ]
  },
  {
   "cell_type": "code",
   "execution_count": 21,
   "metadata": {},
   "outputs": [
    {
     "data": {
      "text/html": [
       "<div>\n",
       "<style scoped>\n",
       "    .dataframe tbody tr th:only-of-type {\n",
       "        vertical-align: middle;\n",
       "    }\n",
       "\n",
       "    .dataframe tbody tr th {\n",
       "        vertical-align: top;\n",
       "    }\n",
       "\n",
       "    .dataframe thead th {\n",
       "        text-align: right;\n",
       "    }\n",
       "</style>\n",
       "<table border=\"1\" class=\"dataframe\">\n",
       "  <thead>\n",
       "    <tr style=\"text-align: right;\">\n",
       "      <th></th>\n",
       "      <th>Magnitude</th>\n",
       "    </tr>\n",
       "  </thead>\n",
       "  <tbody>\n",
       "    <tr>\n",
       "      <th>total_livable_area</th>\n",
       "      <td>2.898562e-01</td>\n",
       "    </tr>\n",
       "    <tr>\n",
       "      <th>geographic_ward</th>\n",
       "      <td>1.584900e-01</td>\n",
       "    </tr>\n",
       "    <tr>\n",
       "      <th>exempt_building</th>\n",
       "      <td>8.092107e-02</td>\n",
       "    </tr>\n",
       "    <tr>\n",
       "      <th>number_of_bedrooms</th>\n",
       "      <td>2.718603e-02</td>\n",
       "    </tr>\n",
       "    <tr>\n",
       "      <th>zip_code</th>\n",
       "      <td>2.248160e-02</td>\n",
       "    </tr>\n",
       "    <tr>\n",
       "      <th>number_stories</th>\n",
       "      <td>1.490526e-02</td>\n",
       "    </tr>\n",
       "    <tr>\n",
       "      <th>exempt_land</th>\n",
       "      <td>8.326673e-17</td>\n",
       "    </tr>\n",
       "    <tr>\n",
       "      <th>market_value</th>\n",
       "      <td>-1.393801e-02</td>\n",
       "    </tr>\n",
       "    <tr>\n",
       "      <th>fireplaces</th>\n",
       "      <td>-1.572949e-02</td>\n",
       "    </tr>\n",
       "    <tr>\n",
       "      <th>census_tract</th>\n",
       "      <td>-4.065621e-02</td>\n",
       "    </tr>\n",
       "    <tr>\n",
       "      <th>taxable_building</th>\n",
       "      <td>-5.196655e-02</td>\n",
       "    </tr>\n",
       "    <tr>\n",
       "      <th>number_of_bathrooms</th>\n",
       "      <td>-7.397131e-02</td>\n",
       "    </tr>\n",
       "    <tr>\n",
       "      <th>year_built</th>\n",
       "      <td>-7.944649e-02</td>\n",
       "    </tr>\n",
       "    <tr>\n",
       "      <th>garage_spaces</th>\n",
       "      <td>-9.735102e-02</td>\n",
       "    </tr>\n",
       "    <tr>\n",
       "      <th>number_of_rooms</th>\n",
       "      <td>-1.043847e-01</td>\n",
       "    </tr>\n",
       "    <tr>\n",
       "      <th>id</th>\n",
       "      <td>-1.588141e-01</td>\n",
       "    </tr>\n",
       "    <tr>\n",
       "      <th>exterior_condition</th>\n",
       "      <td>-1.854005e-01</td>\n",
       "    </tr>\n",
       "    <tr>\n",
       "      <th>taxable_land</th>\n",
       "      <td>-1.930754e-01</td>\n",
       "    </tr>\n",
       "  </tbody>\n",
       "</table>\n",
       "</div>"
      ],
      "text/plain": [
       "                        Magnitude\n",
       "total_livable_area   2.898562e-01\n",
       "geographic_ward      1.584900e-01\n",
       "exempt_building      8.092107e-02\n",
       "number_of_bedrooms   2.718603e-02\n",
       "zip_code             2.248160e-02\n",
       "number_stories       1.490526e-02\n",
       "exempt_land          8.326673e-17\n",
       "market_value        -1.393801e-02\n",
       "fireplaces          -1.572949e-02\n",
       "census_tract        -4.065621e-02\n",
       "taxable_building    -5.196655e-02\n",
       "number_of_bathrooms -7.397131e-02\n",
       "year_built          -7.944649e-02\n",
       "garage_spaces       -9.735102e-02\n",
       "number_of_rooms     -1.043847e-01\n",
       "id                  -1.588141e-01\n",
       "exterior_condition  -1.854005e-01\n",
       "taxable_land        -1.930754e-01"
      ]
     },
     "execution_count": 21,
     "metadata": {},
     "output_type": "execute_result"
    }
   ],
   "source": [
    "correlated_variables = X.columns\n",
    "pd.DataFrame({'Magnitude': model.coef_[0]}, index=[correlated_variables]).sort_values('Magnitude',ascending=False)\n"
   ]
  },
  {
   "cell_type": "code",
   "execution_count": null,
   "metadata": {},
   "outputs": [],
   "source": []
  }
 ],
 "metadata": {
  "kernelspec": {
   "display_name": "Python [conda env:PythonAdv]",
   "language": "python",
   "name": "conda-env-PythonAdv-py"
  },
  "language_info": {
   "codemirror_mode": {
    "name": "ipython",
    "version": 3
   },
   "file_extension": ".py",
   "mimetype": "text/x-python",
   "name": "python",
   "nbconvert_exporter": "python",
   "pygments_lexer": "ipython3",
   "version": "3.6.13"
  }
 },
 "nbformat": 4,
 "nbformat_minor": 4
}
