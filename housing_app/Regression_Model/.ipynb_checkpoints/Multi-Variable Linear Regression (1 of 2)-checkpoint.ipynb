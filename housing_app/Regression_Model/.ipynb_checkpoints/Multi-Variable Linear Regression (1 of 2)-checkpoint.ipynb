{
 "cells": [
  {
   "cell_type": "markdown",
   "metadata": {},
   "source": [
    "# This regression script models houses that were sold for under $1,000,000."
   ]
  },
  {
   "cell_type": "code",
   "execution_count": 1,
   "metadata": {},
   "outputs": [],
   "source": [
    "# Import libraries for data manipulation\n",
    "import pandas as pd\n",
    "import matplotlib.pyplot as plt\n",
    "import numpy as np# This regression script models houses that were sold for over $1,000,000.\n",
    "import seaborn as sns\n",
    "%matplotlib inline\n",
    "\n",
    "# Import libraries for regression modeling\n",
    "from sklearn.datasets import make_regression\n",
    "from sklearn.linear_model import LinearRegression"
   ]
  },
  {
   "cell_type": "code",
   "execution_count": 2,
   "metadata": {
    "scrolled": false
   },
   "outputs": [
    {
     "data": {
      "text/html": [
       "<div>\n",
       "<style scoped>\n",
       "    .dataframe tbody tr th:only-of-type {\n",
       "        vertical-align: middle;\n",
       "    }\n",
       "\n",
       "    .dataframe tbody tr th {\n",
       "        vertical-align: top;\n",
       "    }\n",
       "\n",
       "    .dataframe thead th {\n",
       "        text-align: right;\n",
       "    }\n",
       "</style>\n",
       "<table border=\"1\" class=\"dataframe\">\n",
       "  <thead>\n",
       "    <tr style=\"text-align: right;\">\n",
       "      <th></th>\n",
       "      <th>id</th>\n",
       "      <th>census_tract</th>\n",
       "      <th>depth</th>\n",
       "      <th>exempt_building</th>\n",
       "      <th>exempt_land</th>\n",
       "      <th>exterior_condition</th>\n",
       "      <th>fireplaces</th>\n",
       "      <th>frontage</th>\n",
       "      <th>garage_spaces</th>\n",
       "      <th>geographic_ward</th>\n",
       "      <th>...</th>\n",
       "      <th>number_of_rooms</th>\n",
       "      <th>number_stories</th>\n",
       "      <th>quality_grade</th>\n",
       "      <th>sale_price</th>\n",
       "      <th>taxable_building</th>\n",
       "      <th>taxable_land</th>\n",
       "      <th>total_area</th>\n",
       "      <th>total_livable_area</th>\n",
       "      <th>year_built</th>\n",
       "      <th>zip_code</th>\n",
       "    </tr>\n",
       "  </thead>\n",
       "  <tbody>\n",
       "    <tr>\n",
       "      <th>0</th>\n",
       "      <td>1</td>\n",
       "      <td>241</td>\n",
       "      <td>67.0</td>\n",
       "      <td>49200</td>\n",
       "      <td>0</td>\n",
       "      <td>4</td>\n",
       "      <td>0</td>\n",
       "      <td>14.00</td>\n",
       "      <td>0</td>\n",
       "      <td>59</td>\n",
       "      <td>...</td>\n",
       "      <td>8</td>\n",
       "      <td>3</td>\n",
       "      <td>NaN</td>\n",
       "      <td>90000</td>\n",
       "      <td>78887</td>\n",
       "      <td>22513</td>\n",
       "      <td>938.00</td>\n",
       "      <td>1344</td>\n",
       "      <td>1895</td>\n",
       "      <td>19144</td>\n",
       "    </tr>\n",
       "    <tr>\n",
       "      <th>1</th>\n",
       "      <td>2</td>\n",
       "      <td>201</td>\n",
       "      <td>70.0</td>\n",
       "      <td>0</td>\n",
       "      <td>0</td>\n",
       "      <td>4</td>\n",
       "      <td>0</td>\n",
       "      <td>14.91</td>\n",
       "      <td>0</td>\n",
       "      <td>13</td>\n",
       "      <td>...</td>\n",
       "      <td>6</td>\n",
       "      <td>2</td>\n",
       "      <td>NaN</td>\n",
       "      <td>52500</td>\n",
       "      <td>40800</td>\n",
       "      <td>7200</td>\n",
       "      <td>1044.00</td>\n",
       "      <td>1190</td>\n",
       "      <td>1940</td>\n",
       "      <td>19140</td>\n",
       "    </tr>\n",
       "    <tr>\n",
       "      <th>2</th>\n",
       "      <td>3</td>\n",
       "      <td>281</td>\n",
       "      <td>95.5</td>\n",
       "      <td>0</td>\n",
       "      <td>0</td>\n",
       "      <td>4</td>\n",
       "      <td>0</td>\n",
       "      <td>17.66</td>\n",
       "      <td>1</td>\n",
       "      <td>17</td>\n",
       "      <td>...</td>\n",
       "      <td>6</td>\n",
       "      <td>2</td>\n",
       "      <td>NaN</td>\n",
       "      <td>154000</td>\n",
       "      <td>88400</td>\n",
       "      <td>15600</td>\n",
       "      <td>1686.53</td>\n",
       "      <td>1633</td>\n",
       "      <td>1940</td>\n",
       "      <td>19141</td>\n",
       "    </tr>\n",
       "    <tr>\n",
       "      <th>3</th>\n",
       "      <td>4</td>\n",
       "      <td>293</td>\n",
       "      <td>112.5</td>\n",
       "      <td>0</td>\n",
       "      <td>0</td>\n",
       "      <td>4</td>\n",
       "      <td>0</td>\n",
       "      <td>19.25</td>\n",
       "      <td>0</td>\n",
       "      <td>23</td>\n",
       "      <td>...</td>\n",
       "      <td>6</td>\n",
       "      <td>2</td>\n",
       "      <td>NaN</td>\n",
       "      <td>65900</td>\n",
       "      <td>53986</td>\n",
       "      <td>11214</td>\n",
       "      <td>2165.62</td>\n",
       "      <td>1320</td>\n",
       "      <td>1940</td>\n",
       "      <td>19124</td>\n",
       "    </tr>\n",
       "    <tr>\n",
       "      <th>4</th>\n",
       "      <td>5</td>\n",
       "      <td>62</td>\n",
       "      <td>79.0</td>\n",
       "      <td>0</td>\n",
       "      <td>0</td>\n",
       "      <td>4</td>\n",
       "      <td>0</td>\n",
       "      <td>16.00</td>\n",
       "      <td>0</td>\n",
       "      <td>40</td>\n",
       "      <td>...</td>\n",
       "      <td>6</td>\n",
       "      <td>2</td>\n",
       "      <td>NaN</td>\n",
       "      <td>47000</td>\n",
       "      <td>56185</td>\n",
       "      <td>9915</td>\n",
       "      <td>1264.00</td>\n",
       "      <td>960</td>\n",
       "      <td>1920</td>\n",
       "      <td>19142</td>\n",
       "    </tr>\n",
       "  </tbody>\n",
       "</table>\n",
       "<p>5 rows × 25 columns</p>\n",
       "</div>"
      ],
      "text/plain": [
       "   id  census_tract  depth  exempt_building  exempt_land  exterior_condition  \\\n",
       "0   1           241   67.0            49200            0                   4   \n",
       "1   2           201   70.0                0            0                   4   \n",
       "2   3           281   95.5                0            0                   4   \n",
       "3   4           293  112.5                0            0                   4   \n",
       "4   5            62   79.0                0            0                   4   \n",
       "\n",
       "   fireplaces  frontage  garage_spaces  geographic_ward  ...  number_of_rooms  \\\n",
       "0           0     14.00              0               59  ...                8   \n",
       "1           0     14.91              0               13  ...                6   \n",
       "2           0     17.66              1               17  ...                6   \n",
       "3           0     19.25              0               23  ...                6   \n",
       "4           0     16.00              0               40  ...                6   \n",
       "\n",
       "   number_stories  quality_grade  sale_price  taxable_building  taxable_land  \\\n",
       "0               3            NaN       90000             78887         22513   \n",
       "1               2            NaN       52500             40800          7200   \n",
       "2               2            NaN      154000             88400         15600   \n",
       "3               2            NaN       65900             53986         11214   \n",
       "4               2            NaN       47000             56185          9915   \n",
       "\n",
       "   total_area  total_livable_area  year_built  zip_code  \n",
       "0      938.00                1344        1895     19144  \n",
       "1     1044.00                1190        1940     19140  \n",
       "2     1686.53                1633        1940     19141  \n",
       "3     2165.62                1320        1940     19124  \n",
       "4     1264.00                 960        1920     19142  \n",
       "\n",
       "[5 rows x 25 columns]"
      ]
     },
     "execution_count": 2,
     "metadata": {},
     "output_type": "execute_result"
    }
   ],
   "source": [
    "# Import data from csv file\n",
    "original_data = pd.read_csv('../source_data/housing_data_cleaned.csv')\n",
    "\n",
    "df = original_data.select_dtypes(exclude=object)\n",
    "df.head()"
   ]
  },
  {
   "cell_type": "code",
   "execution_count": 3,
   "metadata": {},
   "outputs": [],
   "source": [
    "# Analyze houses that are under $1,000,000\n",
    "df = df.loc[df['sale_price'] < 1000000, :]"
   ]
  },
  {
   "cell_type": "code",
   "execution_count": 4,
   "metadata": {},
   "outputs": [],
   "source": [
    "data = df.copy()"
   ]
  },
  {
   "cell_type": "code",
   "execution_count": 5,
   "metadata": {},
   "outputs": [
    {
     "name": "stdout",
     "output_type": "stream",
     "text": [
      "(67367, 18)\n",
      "(67367, 1)\n"
     ]
    }
   ],
   "source": [
    "# Select categorical data values and reshape to arrays\n",
    "# sig_columns = ['market_value','number_of_rooms','total_livable_area']\n",
    "X = data.drop(['sale_price', 'depth','frontage','interior_condition','market_value_date','quality_grade','total_area'], axis=1)\n",
    "# X = data[sig_columns]\n",
    "y = data['sale_price'].values.reshape(-1, 1)\n",
    "\n",
    "print(X.shape)\n",
    "print(y.shape)"
   ]
  },
  {
   "cell_type": "code",
   "execution_count": 6,
   "metadata": {},
   "outputs": [],
   "source": [
    "# Use train_test_split to create training and testing data\n",
    "from sklearn.model_selection import train_test_split\n",
    "\n",
    "X_train, X_test, y_train, y_test = train_test_split(X, y, random_state=42)"
   ]
  },
  {
   "cell_type": "markdown",
   "metadata": {},
   "source": [
    "## Raw Data Model "
   ]
  },
  {
   "cell_type": "code",
   "execution_count": 7,
   "metadata": {},
   "outputs": [],
   "source": [
    "# Use train_test_split to create training and testing data\n",
    "from sklearn.model_selection import train_test_split\n",
    "\n",
    "X_train, X_test, y_train, y_test = train_test_split(X, y, random_state=42)"
   ]
  },
  {
   "cell_type": "code",
   "execution_count": 8,
   "metadata": {},
   "outputs": [
    {
     "data": {
      "text/plain": [
       "LinearRegression()"
      ]
     },
     "execution_count": 8,
     "metadata": {},
     "output_type": "execute_result"
    }
   ],
   "source": [
    "# Create the model using LinearRegression\n",
    "from sklearn.linear_model import LinearRegression\n",
    "model = LinearRegression()\n",
    "model"
   ]
  },
  {
   "cell_type": "code",
   "execution_count": 9,
   "metadata": {
    "scrolled": true
   },
   "outputs": [
    {
     "name": "stdout",
     "output_type": "stream",
     "text": [
      "Training Score: 0.78\n",
      "Testing Score: 0.766\n"
     ]
    }
   ],
   "source": [
    "model.fit(X_train, y_train)\n",
    "training_score = model.score(X_train, y_train)\n",
    "testing_score = model.score(X_test, y_test)\n",
    "\n",
    "print(f\"Training Score: {round(training_score, 3)}\")\n",
    "print(f\"Testing Score: {round(testing_score, 3)}\")"
   ]
  },
  {
   "cell_type": "code",
   "execution_count": 10,
   "metadata": {},
   "outputs": [
    {
     "data": {
      "image/png": "[encoded data removed]",
      "text/plain": [
       "<Figure size 432x288 with 1 Axes>"
      ]
     },
     "metadata": {
      "needs_background": "light"
     },
     "output_type": "display_data"
    }
   ],
   "source": [
    "# Plot trained data and test data\n",
    "plt.scatter(model.predict(X_train), y_train, c=\"blue\", label=\"Training Data\")\n",
    "plt.scatter(model.predict(X_test), y_test, c=\"orange\", label=\"Testing Data\")\n",
    "plt.legend()\n",
    "plt.title(\"Residual Plot\")\n",
    "plt.show()"
   ]
  },
  {
   "cell_type": "markdown",
   "metadata": {},
   "source": [
    "## Standard Scaler Model "
   ]
  },
  {
   "cell_type": "code",
   "execution_count": 11,
   "metadata": {},
   "outputs": [],
   "source": [
    "# Create a StandardScaler model and fit it to the training data\n",
    "from sklearn.preprocessing import StandardScaler\n",
    "\n",
    "X_scaler = StandardScaler().fit(X_train)\n",
    "y_scaler = StandardScaler().fit(y_train)"
   ]
  },
  {
   "cell_type": "code",
   "execution_count": 12,
   "metadata": {},
   "outputs": [],
   "source": [
    "# Transform the training and testing data using the X_scaler and y_scaler models\n",
    "X_train_scaled = X_scaler.transform(X_train)\n",
    "X_test_scaled = X_scaler.transform(X_test)\n",
    "y_train_scaled = y_scaler.transform(y_train)\n",
    "y_test_scaled = y_scaler.transform(y_test)"
   ]
  },
  {
   "cell_type": "code",
   "execution_count": 13,
   "metadata": {},
   "outputs": [
    {
     "data": {
      "text/plain": [
       "LinearRegression()"
      ]
     },
     "execution_count": 13,
     "metadata": {},
     "output_type": "execute_result"
    }
   ],
   "source": [
    "# Create a LinearRegression model and fit it to the scaled training data\n",
    "model = LinearRegression()\n",
    "model.fit(X_train_scaled, y_train_scaled)"
   ]
  },
  {
   "cell_type": "code",
   "execution_count": 14,
   "metadata": {},
   "outputs": [
    {
     "data": {
      "image/png": "[encoded data removed]",
      "text/plain": [
       "<Figure size 432x288 with 1 Axes>"
      ]
     },
     "metadata": {
      "needs_background": "light"
     },
     "output_type": "display_data"
    }
   ],
   "source": [
    "predictions = model.predict(X_test_scaled)\n",
    "model.fit(X_train_scaled, y_train_scaled)\n",
    "plt.scatter(model.predict(X_train_scaled), y_train_scaled, c=\"blue\", label=\"Training Data\")\n",
    "plt.scatter(model.predict(X_test_scaled), y_test_scaled, c=\"orange\", label=\"Testing Data\")\n",
    "plt.legend()\n",
    "plt.title(\"Residual Plot\")\n",
    "plt.show()"
   ]
  },
  {
   "cell_type": "code",
   "execution_count": 15,
   "metadata": {},
   "outputs": [
    {
     "name": "stdout",
     "output_type": "stream",
     "text": [
      "MSE: 0.235, R2: 0.766\n"
     ]
    }
   ],
   "source": [
    "# Used X_test_scaled, y_test_scaled, and model.predict(X_test_scaled) to calculate MSE and R2\n",
    "from sklearn.metrics import mean_squared_error\n",
    "\n",
    "MSE_LR = mean_squared_error(y_test_scaled, predictions)\n",
    "r2_LR = model.score(X_test_scaled, y_test_scaled)\n",
    "\n",
    "print(f\"MSE: {round(MSE_LR,3)}, R2: {round(r2_LR,3)}\")"
   ]
  },
  {
   "cell_type": "markdown",
   "metadata": {},
   "source": [
    "## LASSO Model"
   ]
  },
  {
   "cell_type": "code",
   "execution_count": 16,
   "metadata": {},
   "outputs": [
    {
     "name": "stdout",
     "output_type": "stream",
     "text": [
      "MSE: 0.237, R2: 0.763\n"
     ]
    }
   ],
   "source": [
    "from sklearn.linear_model import Lasso\n",
    "\n",
    "lasso = Lasso(alpha=0.01).fit(X_train_scaled, y_train_scaled)\n",
    "predictions = lasso.predict(X_test_scaled)\n",
    "\n",
    "MSE_lasso = mean_squared_error(y_test_scaled, predictions)\n",
    "r2_lasso = lasso.score(X_test_scaled, y_test_scaled)\n",
    "\n",
    "print(f\"MSE: {round(MSE_lasso,3)}, R2: {round(r2_lasso,3)}\")"
   ]
  },
  {
   "cell_type": "markdown",
   "metadata": {},
   "source": [
    "## Ridge Model"
   ]
  },
  {
   "cell_type": "code",
   "execution_count": 17,
   "metadata": {},
   "outputs": [
    {
     "name": "stdout",
     "output_type": "stream",
     "text": [
      "MSE: 0.235, R2: 0.766\n"
     ]
    }
   ],
   "source": [
    "from sklearn.linear_model import Ridge\n",
    "\n",
    "ridge = Ridge(alpha=.01).fit(X_train_scaled, y_train_scaled)\n",
    "predictions = ridge.predict(X_test_scaled)\n",
    "\n",
    "MSE_ridge = mean_squared_error(y_test_scaled, predictions)\n",
    "r2_ridge = ridge.score(X_test_scaled, y_test_scaled)\n",
    "\n",
    "print(f\"MSE: {round(MSE_ridge,3)}, R2: {round(r2_ridge,3)}\")"
   ]
  },
  {
   "cell_type": "markdown",
   "metadata": {},
   "source": [
    "## ElasticNet Model"
   ]
  },
  {
   "cell_type": "code",
   "execution_count": 18,
   "metadata": {},
   "outputs": [
    {
     "name": "stdout",
     "output_type": "stream",
     "text": [
      "MSE: 0.234, R2: 0.766\n"
     ]
    }
   ],
   "source": [
    "from sklearn.linear_model import ElasticNet\n",
    "\n",
    "elasticnet = ElasticNet(alpha=.01).fit(X_train_scaled, y_train_scaled)\n",
    "predictions = elasticnet.predict(X_test_scaled)\n",
    "\n",
    "MSE_EL = mean_squared_error(y_test_scaled, predictions)\n",
    "r2_EL = elasticnet.score(X_test_scaled, y_test_scaled)\n",
    "\n",
    "print(f\"MSE: {round(MSE_EL,3)}, R2: {round(r2_EL,3)}\")"
   ]
  },
  {
   "cell_type": "markdown",
   "metadata": {},
   "source": [
    "### Model Scores "
   ]
  },
  {
   "cell_type": "code",
   "execution_count": 19,
   "metadata": {},
   "outputs": [
    {
     "data": {
      "text/html": [
       "<div>\n",
       "<style scoped>\n",
       "    .dataframe tbody tr th:only-of-type {\n",
       "        vertical-align: middle;\n",
       "    }\n",
       "\n",
       "    .dataframe tbody tr th {\n",
       "        vertical-align: top;\n",
       "    }\n",
       "\n",
       "    .dataframe thead th {\n",
       "        text-align: right;\n",
       "    }\n",
       "</style>\n",
       "<table border=\"1\" class=\"dataframe\">\n",
       "  <thead>\n",
       "    <tr style=\"text-align: right;\">\n",
       "      <th></th>\n",
       "      <th>R2 Score</th>\n",
       "      <th>MSE Score</th>\n",
       "    </tr>\n",
       "  </thead>\n",
       "  <tbody>\n",
       "    <tr>\n",
       "      <th>ElasticNet</th>\n",
       "      <td>0.766089</td>\n",
       "      <td>0.234269</td>\n",
       "    </tr>\n",
       "    <tr>\n",
       "      <th>Ridge</th>\n",
       "      <td>0.765749</td>\n",
       "      <td>0.234610</td>\n",
       "    </tr>\n",
       "    <tr>\n",
       "      <th>Linear Regression</th>\n",
       "      <td>0.765699</td>\n",
       "      <td>0.234660</td>\n",
       "    </tr>\n",
       "    <tr>\n",
       "      <th>LASSO</th>\n",
       "      <td>0.763379</td>\n",
       "      <td>0.236984</td>\n",
       "    </tr>\n",
       "  </tbody>\n",
       "</table>\n",
       "</div>"
      ],
      "text/plain": [
       "                   R2 Score  MSE Score\n",
       "ElasticNet         0.766089   0.234269\n",
       "Ridge              0.765749   0.234610\n",
       "Linear Regression  0.765699   0.234660\n",
       "LASSO              0.763379   0.236984"
      ]
     },
     "execution_count": 19,
     "metadata": {},
     "output_type": "execute_result"
    }
   ],
   "source": [
    "# Display scores of all models tested\n",
    "r2_results = [r2_LR, r2_lasso, r2_ridge, r2_EL]\n",
    "MSE_results = [MSE_LR, MSE_lasso, MSE_ridge, MSE_EL]\n",
    "r2_indices = ['Linear Regression','LASSO','Ridge','ElasticNet']\n",
    "\n",
    "pd.DataFrame({\"R2 Score\": r2_results, \"MSE Score\": MSE_results}, index=[r2_indices]).sort_values('R2 Score', ascending=False)"
   ]
  },
  {
   "cell_type": "code",
   "execution_count": 20,
   "metadata": {},
   "outputs": [
    {
     "data": {
      "text/html": [
       "<div>\n",
       "<style scoped>\n",
       "    .dataframe tbody tr th:only-of-type {\n",
       "        vertical-align: middle;\n",
       "    }\n",
       "\n",
       "    .dataframe tbody tr th {\n",
       "        vertical-align: top;\n",
       "    }\n",
       "\n",
       "    .dataframe thead th {\n",
       "        text-align: right;\n",
       "    }\n",
       "</style>\n",
       "<table border=\"1\" class=\"dataframe\">\n",
       "  <thead>\n",
       "    <tr style=\"text-align: right;\">\n",
       "      <th></th>\n",
       "      <th>LR Magnitudes</th>\n",
       "      <th>LASSO Magnitudes</th>\n",
       "      <th>Ridge Magnitudes</th>\n",
       "      <th>ElasticNet Magnitudes</th>\n",
       "    </tr>\n",
       "  </thead>\n",
       "  <tbody>\n",
       "    <tr>\n",
       "      <th>market_value</th>\n",
       "      <td>6.704238e+11</td>\n",
       "      <td>0.772119</td>\n",
       "      <td>0.353197</td>\n",
       "      <td>0.615941</td>\n",
       "    </tr>\n",
       "    <tr>\n",
       "      <th>total_livable_area</th>\n",
       "      <td>5.997945e-02</td>\n",
       "      <td>0.034515</td>\n",
       "      <td>0.059864</td>\n",
       "      <td>0.051456</td>\n",
       "    </tr>\n",
       "    <tr>\n",
       "      <th>number_of_bathrooms</th>\n",
       "      <td>1.944461e-02</td>\n",
       "      <td>0.008673</td>\n",
       "      <td>0.019367</td>\n",
       "      <td>0.015245</td>\n",
       "    </tr>\n",
       "    <tr>\n",
       "      <th>garage_spaces</th>\n",
       "      <td>1.667508e-02</td>\n",
       "      <td>0.000000</td>\n",
       "      <td>0.016608</td>\n",
       "      <td>0.009518</td>\n",
       "    </tr>\n",
       "    <tr>\n",
       "      <th>fireplaces</th>\n",
       "      <td>1.635178e-02</td>\n",
       "      <td>0.009696</td>\n",
       "      <td>0.016514</td>\n",
       "      <td>0.013644</td>\n",
       "    </tr>\n",
       "    <tr>\n",
       "      <th>number_stories</th>\n",
       "      <td>8.464486e-03</td>\n",
       "      <td>0.000000</td>\n",
       "      <td>0.008409</td>\n",
       "      <td>0.002465</td>\n",
       "    </tr>\n",
       "    <tr>\n",
       "      <th>year_built</th>\n",
       "      <td>-2.131127e-04</td>\n",
       "      <td>0.000000</td>\n",
       "      <td>-0.000157</td>\n",
       "      <td>0.000000</td>\n",
       "    </tr>\n",
       "    <tr>\n",
       "      <th>zip_code</th>\n",
       "      <td>-1.617387e-03</td>\n",
       "      <td>-0.000000</td>\n",
       "      <td>-0.001600</td>\n",
       "      <td>-0.000000</td>\n",
       "    </tr>\n",
       "    <tr>\n",
       "      <th>geographic_ward</th>\n",
       "      <td>-5.356881e-03</td>\n",
       "      <td>-0.000000</td>\n",
       "      <td>-0.005403</td>\n",
       "      <td>-0.003863</td>\n",
       "    </tr>\n",
       "    <tr>\n",
       "      <th>number_of_bedrooms</th>\n",
       "      <td>-1.793974e-02</td>\n",
       "      <td>-0.007870</td>\n",
       "      <td>-0.017865</td>\n",
       "      <td>-0.014253</td>\n",
       "    </tr>\n",
       "    <tr>\n",
       "      <th>number_of_rooms</th>\n",
       "      <td>-2.948632e-02</td>\n",
       "      <td>-0.008481</td>\n",
       "      <td>-0.029347</td>\n",
       "      <td>-0.018374</td>\n",
       "    </tr>\n",
       "    <tr>\n",
       "      <th>census_tract</th>\n",
       "      <td>-3.956064e-02</td>\n",
       "      <td>-0.024329</td>\n",
       "      <td>-0.039622</td>\n",
       "      <td>-0.032771</td>\n",
       "    </tr>\n",
       "    <tr>\n",
       "      <th>exterior_condition</th>\n",
       "      <td>-7.498307e-02</td>\n",
       "      <td>-0.065125</td>\n",
       "      <td>-0.074896</td>\n",
       "      <td>-0.075248</td>\n",
       "    </tr>\n",
       "    <tr>\n",
       "      <th>id</th>\n",
       "      <td>-1.372239e-01</td>\n",
       "      <td>-0.126143</td>\n",
       "      <td>-0.137172</td>\n",
       "      <td>-0.130826</td>\n",
       "    </tr>\n",
       "    <tr>\n",
       "      <th>exempt_land</th>\n",
       "      <td>-7.524395e+09</td>\n",
       "      <td>0.000000</td>\n",
       "      <td>0.006647</td>\n",
       "      <td>0.000000</td>\n",
       "    </tr>\n",
       "    <tr>\n",
       "      <th>taxable_land</th>\n",
       "      <td>-1.790181e+11</td>\n",
       "      <td>0.000000</td>\n",
       "      <td>0.120675</td>\n",
       "      <td>0.060215</td>\n",
       "    </tr>\n",
       "    <tr>\n",
       "      <th>taxable_building</th>\n",
       "      <td>-4.000553e+11</td>\n",
       "      <td>0.054042</td>\n",
       "      <td>0.290276</td>\n",
       "      <td>0.124137</td>\n",
       "    </tr>\n",
       "    <tr>\n",
       "      <th>exempt_building</th>\n",
       "      <td>-4.190553e+11</td>\n",
       "      <td>0.000000</td>\n",
       "      <td>0.236275</td>\n",
       "      <td>0.064282</td>\n",
       "    </tr>\n",
       "  </tbody>\n",
       "</table>\n",
       "</div>"
      ],
      "text/plain": [
       "                     LR Magnitudes  LASSO Magnitudes  Ridge Magnitudes  \\\n",
       "market_value          6.704238e+11          0.772119          0.353197   \n",
       "total_livable_area    5.997945e-02          0.034515          0.059864   \n",
       "number_of_bathrooms   1.944461e-02          0.008673          0.019367   \n",
       "garage_spaces         1.667508e-02          0.000000          0.016608   \n",
       "fireplaces            1.635178e-02          0.009696          0.016514   \n",
       "number_stories        8.464486e-03          0.000000          0.008409   \n",
       "year_built           -2.131127e-04          0.000000         -0.000157   \n",
       "zip_code             -1.617387e-03         -0.000000         -0.001600   \n",
       "geographic_ward      -5.356881e-03         -0.000000         -0.005403   \n",
       "number_of_bedrooms   -1.793974e-02         -0.007870         -0.017865   \n",
       "number_of_rooms      -2.948632e-02         -0.008481         -0.029347   \n",
       "census_tract         -3.956064e-02         -0.024329         -0.039622   \n",
       "exterior_condition   -7.498307e-02         -0.065125         -0.074896   \n",
       "id                   -1.372239e-01         -0.126143         -0.137172   \n",
       "exempt_land          -7.524395e+09          0.000000          0.006647   \n",
       "taxable_land         -1.790181e+11          0.000000          0.120675   \n",
       "taxable_building     -4.000553e+11          0.054042          0.290276   \n",
       "exempt_building      -4.190553e+11          0.000000          0.236275   \n",
       "\n",
       "                     ElasticNet Magnitudes  \n",
       "market_value                      0.615941  \n",
       "total_livable_area                0.051456  \n",
       "number_of_bathrooms               0.015245  \n",
       "garage_spaces                     0.009518  \n",
       "fireplaces                        0.013644  \n",
       "number_stories                    0.002465  \n",
       "year_built                        0.000000  \n",
       "zip_code                         -0.000000  \n",
       "geographic_ward                  -0.003863  \n",
       "number_of_bedrooms               -0.014253  \n",
       "number_of_rooms                  -0.018374  \n",
       "census_tract                     -0.032771  \n",
       "exterior_condition               -0.075248  \n",
       "id                               -0.130826  \n",
       "exempt_land                       0.000000  \n",
       "taxable_land                      0.060215  \n",
       "taxable_building                  0.124137  \n",
       "exempt_building                   0.064282  "
      ]
     },
     "execution_count": 20,
     "metadata": {},
     "output_type": "execute_result"
    }
   ],
   "source": [
    "# Look at variables with the most impact on the models\n",
    "correlated_variables = X.columns\n",
    "\n",
    "pd.DataFrame({'LR Magnitudes': model.coef_[0],\n",
    "              'LASSO Magnitudes': lasso.coef_,\n",
    "              'Ridge Magnitudes': ridge.coef_[0],\n",
    "              'ElasticNet Magnitudes': elasticnet.coef_}, \n",
    "              index=[correlated_variables]).sort_values('LR Magnitudes', ascending=False)"
   ]
  },
  {
   "cell_type": "code",
   "execution_count": null,
   "metadata": {},
   "outputs": [],
   "source": []
  }
 ],
 "metadata": {
  "kernelspec": {
   "display_name": "Python [conda env:PythonAdv]",
   "language": "python",
   "name": "conda-env-PythonAdv-py"
  },
  "language_info": {
   "codemirror_mode": {
    "name": "ipython",
    "version": 3
   },
   "file_extension": ".py",
   "mimetype": "text/x-python",
   "name": "python",
   "nbconvert_exporter": "python",
   "pygments_lexer": "ipython3",
   "version": "3.6.13"
  }
 },
 "nbformat": 4,
 "nbformat_minor": 4
}
