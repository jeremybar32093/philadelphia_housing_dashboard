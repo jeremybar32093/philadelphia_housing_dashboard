{
 "cells": [
  {
   "cell_type": "markdown",
   "metadata": {},
   "source": [
    "# This regression script models houses that were sold for under $1,000,000."
   ]
  },
  {
   "cell_type": "code",
   "execution_count": 1,
   "metadata": {},
   "outputs": [],
   "source": [
    "# Import libraries for data manipulation\n",
    "import pandas as pd\n",
    "import matplotlib.pyplot as plt\n",
    "import numpy as np"
   ]
  },
  {
   "cell_type": "code",
   "execution_count": 2,
   "metadata": {
    "scrolled": false
   },
   "outputs": [
    {
     "data": {
      "text/html": [
       "<div>\n",
       "<style scoped>\n",
       "    .dataframe tbody tr th:only-of-type {\n",
       "        vertical-align: middle;\n",
       "    }\n",
       "\n",
       "    .dataframe tbody tr th {\n",
       "        vertical-align: top;\n",
       "    }\n",
       "\n",
       "    .dataframe thead th {\n",
       "        text-align: right;\n",
       "    }\n",
       "</style>\n",
       "<table border=\"1\" class=\"dataframe\">\n",
       "  <thead>\n",
       "    <tr style=\"text-align: right;\">\n",
       "      <th></th>\n",
       "      <th>id</th>\n",
       "      <th>basements</th>\n",
       "      <th>building_code_description</th>\n",
       "      <th>category_code_description</th>\n",
       "      <th>census_tract</th>\n",
       "      <th>central_air</th>\n",
       "      <th>depth</th>\n",
       "      <th>exempt_building</th>\n",
       "      <th>exempt_land</th>\n",
       "      <th>exterior_condition</th>\n",
       "      <th>...</th>\n",
       "      <th>total_area</th>\n",
       "      <th>total_livable_area</th>\n",
       "      <th>type_heater</th>\n",
       "      <th>unit</th>\n",
       "      <th>view_type</th>\n",
       "      <th>year_built</th>\n",
       "      <th>year_built_estimate</th>\n",
       "      <th>zip_code</th>\n",
       "      <th>zoning</th>\n",
       "      <th>full_finished_basement</th>\n",
       "    </tr>\n",
       "  </thead>\n",
       "  <tbody>\n",
       "    <tr>\n",
       "      <th>0</th>\n",
       "      <td>1</td>\n",
       "      <td>D</td>\n",
       "      <td>ROW 3 STY MASONRY</td>\n",
       "      <td>Single Family</td>\n",
       "      <td>241</td>\n",
       "      <td>N</td>\n",
       "      <td>67.0</td>\n",
       "      <td>49200</td>\n",
       "      <td>0</td>\n",
       "      <td>4</td>\n",
       "      <td>...</td>\n",
       "      <td>938.00</td>\n",
       "      <td>1344</td>\n",
       "      <td>A</td>\n",
       "      <td>NaN</td>\n",
       "      <td>I</td>\n",
       "      <td>1895</td>\n",
       "      <td>Y</td>\n",
       "      <td>19144</td>\n",
       "      <td>RSA5</td>\n",
       "      <td>N</td>\n",
       "    </tr>\n",
       "    <tr>\n",
       "      <th>1</th>\n",
       "      <td>2</td>\n",
       "      <td>NaN</td>\n",
       "      <td>ROW 2 STY MASONRY</td>\n",
       "      <td>Single Family</td>\n",
       "      <td>201</td>\n",
       "      <td>NaN</td>\n",
       "      <td>70.0</td>\n",
       "      <td>0</td>\n",
       "      <td>0</td>\n",
       "      <td>4</td>\n",
       "      <td>...</td>\n",
       "      <td>1044.00</td>\n",
       "      <td>1190</td>\n",
       "      <td>NaN</td>\n",
       "      <td>NaN</td>\n",
       "      <td>I</td>\n",
       "      <td>1940</td>\n",
       "      <td>Y</td>\n",
       "      <td>19140</td>\n",
       "      <td>RM1</td>\n",
       "      <td>N</td>\n",
       "    </tr>\n",
       "    <tr>\n",
       "      <th>2</th>\n",
       "      <td>3</td>\n",
       "      <td>H</td>\n",
       "      <td>ROW B/GAR 2 STY MASONRY</td>\n",
       "      <td>Single Family</td>\n",
       "      <td>281</td>\n",
       "      <td>N</td>\n",
       "      <td>95.5</td>\n",
       "      <td>0</td>\n",
       "      <td>0</td>\n",
       "      <td>4</td>\n",
       "      <td>...</td>\n",
       "      <td>1686.53</td>\n",
       "      <td>1633</td>\n",
       "      <td>B</td>\n",
       "      <td>NaN</td>\n",
       "      <td>I</td>\n",
       "      <td>1940</td>\n",
       "      <td>Y</td>\n",
       "      <td>19141</td>\n",
       "      <td>RSA3</td>\n",
       "      <td>N</td>\n",
       "    </tr>\n",
       "    <tr>\n",
       "      <th>3</th>\n",
       "      <td>4</td>\n",
       "      <td>NaN</td>\n",
       "      <td>ROW 2 STY MASONRY</td>\n",
       "      <td>Single Family</td>\n",
       "      <td>293</td>\n",
       "      <td>NaN</td>\n",
       "      <td>112.5</td>\n",
       "      <td>0</td>\n",
       "      <td>0</td>\n",
       "      <td>4</td>\n",
       "      <td>...</td>\n",
       "      <td>2165.62</td>\n",
       "      <td>1320</td>\n",
       "      <td>B</td>\n",
       "      <td>NaN</td>\n",
       "      <td>I</td>\n",
       "      <td>1940</td>\n",
       "      <td>Y</td>\n",
       "      <td>19124</td>\n",
       "      <td>RSA5</td>\n",
       "      <td>N</td>\n",
       "    </tr>\n",
       "    <tr>\n",
       "      <th>4</th>\n",
       "      <td>5</td>\n",
       "      <td>NaN</td>\n",
       "      <td>ROW 2 STY MASONRY</td>\n",
       "      <td>Single Family</td>\n",
       "      <td>62</td>\n",
       "      <td>NaN</td>\n",
       "      <td>79.0</td>\n",
       "      <td>0</td>\n",
       "      <td>0</td>\n",
       "      <td>4</td>\n",
       "      <td>...</td>\n",
       "      <td>1264.00</td>\n",
       "      <td>960</td>\n",
       "      <td>NaN</td>\n",
       "      <td>NaN</td>\n",
       "      <td>I</td>\n",
       "      <td>1920</td>\n",
       "      <td>NaN</td>\n",
       "      <td>19142</td>\n",
       "      <td>RM1</td>\n",
       "      <td>N</td>\n",
       "    </tr>\n",
       "  </tbody>\n",
       "</table>\n",
       "<p>5 rows × 43 columns</p>\n",
       "</div>"
      ],
      "text/plain": [
       "   id basements building_code_description category_code_description  \\\n",
       "0   1         D         ROW 3 STY MASONRY             Single Family   \n",
       "1   2       NaN         ROW 2 STY MASONRY             Single Family   \n",
       "2   3         H   ROW B/GAR 2 STY MASONRY             Single Family   \n",
       "3   4       NaN         ROW 2 STY MASONRY             Single Family   \n",
       "4   5       NaN         ROW 2 STY MASONRY             Single Family   \n",
       "\n",
       "   census_tract central_air  depth  exempt_building  exempt_land  \\\n",
       "0           241           N   67.0            49200            0   \n",
       "1           201         NaN   70.0                0            0   \n",
       "2           281           N   95.5                0            0   \n",
       "3           293         NaN  112.5                0            0   \n",
       "4            62         NaN   79.0                0            0   \n",
       "\n",
       "   exterior_condition  ...  total_area  total_livable_area type_heater  unit  \\\n",
       "0                   4  ...      938.00                1344           A   NaN   \n",
       "1                   4  ...     1044.00                1190         NaN   NaN   \n",
       "2                   4  ...     1686.53                1633           B   NaN   \n",
       "3                   4  ...     2165.62                1320           B   NaN   \n",
       "4                   4  ...     1264.00                 960         NaN   NaN   \n",
       "\n",
       "  view_type  year_built  year_built_estimate zip_code  zoning  \\\n",
       "0         I        1895                    Y    19144    RSA5   \n",
       "1         I        1940                    Y    19140     RM1   \n",
       "2         I        1940                    Y    19141    RSA3   \n",
       "3         I        1940                    Y    19124    RSA5   \n",
       "4         I        1920                  NaN    19142     RM1   \n",
       "\n",
       "   full_finished_basement  \n",
       "0                       N  \n",
       "1                       N  \n",
       "2                       N  \n",
       "3                       N  \n",
       "4                       N  \n",
       "\n",
       "[5 rows x 43 columns]"
      ]
     },
     "execution_count": 2,
     "metadata": {},
     "output_type": "execute_result"
    }
   ],
   "source": [
    "# Import data from csv file\n",
    "original_data = pd.read_csv('../source_data/housing_data_cleaned.csv')\n",
    "\n",
    "df = original_data.copy()\n",
    "df = df[df['category_code_description'] == 'Single Family']\n",
    "df = df[df['sale_price'] < 1000000]\n",
    "df['full_finished_basement'] = np.where(df['basements'] == 'A', 'Y', 'N')\n",
    "df.head()"
   ]
  },
  {
   "cell_type": "code",
   "execution_count": 3,
   "metadata": {},
   "outputs": [
    {
     "name": "stdout",
     "output_type": "stream",
     "text": [
      "65194\n"
     ]
    }
   ],
   "source": [
    "print(len(df))"
   ]
  },
  {
   "cell_type": "code",
   "execution_count": 4,
   "metadata": {
    "scrolled": true
   },
   "outputs": [
    {
     "name": "stderr",
     "output_type": "stream",
     "text": [
      "/Users/anthonycarannante/opt/anaconda3/envs/PythonAdv/lib/python3.6/site-packages/ipykernel_launcher.py:11: SettingWithCopyWarning: \n",
      "A value is trying to be set on a copy of a slice from a DataFrame.\n",
      "Try using .loc[row_indexer,col_indexer] = value instead\n",
      "\n",
      "See the caveats in the documentation: https://pandas.pydata.org/pandas-docs/stable/user_guide/indexing.html#returning-a-view-versus-a-copy\n",
      "  # This is added back by InteractiveShellApp.init_path()\n"
     ]
    },
    {
     "data": {
      "text/html": [
       "<div>\n",
       "<style scoped>\n",
       "    .dataframe tbody tr th:only-of-type {\n",
       "        vertical-align: middle;\n",
       "    }\n",
       "\n",
       "    .dataframe tbody tr th {\n",
       "        vertical-align: top;\n",
       "    }\n",
       "\n",
       "    .dataframe thead th {\n",
       "        text-align: right;\n",
       "    }\n",
       "</style>\n",
       "<table border=\"1\" class=\"dataframe\">\n",
       "  <thead>\n",
       "    <tr style=\"text-align: right;\">\n",
       "      <th></th>\n",
       "      <th>full_finished_basement</th>\n",
       "      <th>central_air</th>\n",
       "      <th>number_of_bedrooms</th>\n",
       "      <th>number_of_bathrooms</th>\n",
       "      <th>total_livable_area</th>\n",
       "      <th>interior_condition</th>\n",
       "      <th>garage_spaces</th>\n",
       "      <th>sale_price</th>\n",
       "      <th>age</th>\n",
       "    </tr>\n",
       "  </thead>\n",
       "  <tbody>\n",
       "    <tr>\n",
       "      <th>0</th>\n",
       "      <td>N</td>\n",
       "      <td>N</td>\n",
       "      <td>4</td>\n",
       "      <td>2</td>\n",
       "      <td>1344</td>\n",
       "      <td>4.0</td>\n",
       "      <td>0</td>\n",
       "      <td>90000</td>\n",
       "      <td>126</td>\n",
       "    </tr>\n",
       "    <tr>\n",
       "      <th>2</th>\n",
       "      <td>N</td>\n",
       "      <td>N</td>\n",
       "      <td>3</td>\n",
       "      <td>1</td>\n",
       "      <td>1633</td>\n",
       "      <td>4.0</td>\n",
       "      <td>1</td>\n",
       "      <td>154000</td>\n",
       "      <td>81</td>\n",
       "    </tr>\n",
       "    <tr>\n",
       "      <th>9</th>\n",
       "      <td>N</td>\n",
       "      <td>N</td>\n",
       "      <td>3</td>\n",
       "      <td>1</td>\n",
       "      <td>1120</td>\n",
       "      <td>4.0</td>\n",
       "      <td>0</td>\n",
       "      <td>145000</td>\n",
       "      <td>76</td>\n",
       "    </tr>\n",
       "    <tr>\n",
       "      <th>11</th>\n",
       "      <td>N</td>\n",
       "      <td>N</td>\n",
       "      <td>3</td>\n",
       "      <td>1</td>\n",
       "      <td>1080</td>\n",
       "      <td>4.0</td>\n",
       "      <td>0</td>\n",
       "      <td>75000</td>\n",
       "      <td>96</td>\n",
       "    </tr>\n",
       "    <tr>\n",
       "      <th>13</th>\n",
       "      <td>N</td>\n",
       "      <td>N</td>\n",
       "      <td>3</td>\n",
       "      <td>2</td>\n",
       "      <td>1680</td>\n",
       "      <td>4.0</td>\n",
       "      <td>0</td>\n",
       "      <td>422900</td>\n",
       "      <td>101</td>\n",
       "    </tr>\n",
       "  </tbody>\n",
       "</table>\n",
       "</div>"
      ],
      "text/plain": [
       "   full_finished_basement central_air  number_of_bedrooms  \\\n",
       "0                       N           N                   4   \n",
       "2                       N           N                   3   \n",
       "9                       N           N                   3   \n",
       "11                      N           N                   3   \n",
       "13                      N           N                   3   \n",
       "\n",
       "    number_of_bathrooms  total_livable_area  interior_condition  \\\n",
       "0                     2                1344                 4.0   \n",
       "2                     1                1633                 4.0   \n",
       "9                     1                1120                 4.0   \n",
       "11                    1                1080                 4.0   \n",
       "13                    2                1680                 4.0   \n",
       "\n",
       "    garage_spaces  sale_price  age  \n",
       "0               0       90000  126  \n",
       "2               1      154000   81  \n",
       "9               0      145000   76  \n",
       "11              0       75000   96  \n",
       "13              0      422900  101  "
      ]
     },
     "execution_count": 4,
     "metadata": {},
     "output_type": "execute_result"
    }
   ],
   "source": [
    "# Analyze houses that are under $1,000,000\n",
    "housing_regression_df = df[[\"full_finished_basement\",\n",
    "                            \"central_air\",\n",
    "                            \"number_of_bedrooms\",\n",
    "                            \"number_of_bathrooms\",\n",
    "                            \"total_livable_area\",\n",
    "                            \"interior_condition\",\n",
    "                            \"garage_spaces\",\n",
    "                            \"year_built\",\n",
    "                            \"sale_price\"]]\n",
    "housing_regression_df['age'] = 2021 - housing_regression_df['year_built']\n",
    "housing_regression_df = housing_regression_df.dropna(subset = ['central_air','interior_condition'])\n",
    "\n",
    "\n",
    "housing_regression_df = housing_regression_df.drop(columns=['year_built'], axis=1)\n",
    "\n",
    "housing_regression_df.head()"
   ]
  },
  {
   "cell_type": "code",
   "execution_count": 5,
   "metadata": {},
   "outputs": [
    {
     "data": {
      "text/html": [
       "<div>\n",
       "<style scoped>\n",
       "    .dataframe tbody tr th:only-of-type {\n",
       "        vertical-align: middle;\n",
       "    }\n",
       "\n",
       "    .dataframe tbody tr th {\n",
       "        vertical-align: top;\n",
       "    }\n",
       "\n",
       "    .dataframe thead th {\n",
       "        text-align: right;\n",
       "    }\n",
       "</style>\n",
       "<table border=\"1\" class=\"dataframe\">\n",
       "  <thead>\n",
       "    <tr style=\"text-align: right;\">\n",
       "      <th></th>\n",
       "      <th>number_of_bedrooms</th>\n",
       "      <th>number_of_bathrooms</th>\n",
       "      <th>total_livable_area</th>\n",
       "      <th>interior_condition</th>\n",
       "      <th>garage_spaces</th>\n",
       "      <th>sale_price</th>\n",
       "      <th>age</th>\n",
       "      <th>full_finished_basement_Y</th>\n",
       "      <th>central_air_Y</th>\n",
       "    </tr>\n",
       "  </thead>\n",
       "  <tbody>\n",
       "    <tr>\n",
       "      <th>0</th>\n",
       "      <td>4</td>\n",
       "      <td>2</td>\n",
       "      <td>1344</td>\n",
       "      <td>4.0</td>\n",
       "      <td>0</td>\n",
       "      <td>90000</td>\n",
       "      <td>126</td>\n",
       "      <td>0</td>\n",
       "      <td>0</td>\n",
       "    </tr>\n",
       "    <tr>\n",
       "      <th>2</th>\n",
       "      <td>3</td>\n",
       "      <td>1</td>\n",
       "      <td>1633</td>\n",
       "      <td>4.0</td>\n",
       "      <td>1</td>\n",
       "      <td>154000</td>\n",
       "      <td>81</td>\n",
       "      <td>0</td>\n",
       "      <td>0</td>\n",
       "    </tr>\n",
       "    <tr>\n",
       "      <th>9</th>\n",
       "      <td>3</td>\n",
       "      <td>1</td>\n",
       "      <td>1120</td>\n",
       "      <td>4.0</td>\n",
       "      <td>0</td>\n",
       "      <td>145000</td>\n",
       "      <td>76</td>\n",
       "      <td>0</td>\n",
       "      <td>0</td>\n",
       "    </tr>\n",
       "    <tr>\n",
       "      <th>11</th>\n",
       "      <td>3</td>\n",
       "      <td>1</td>\n",
       "      <td>1080</td>\n",
       "      <td>4.0</td>\n",
       "      <td>0</td>\n",
       "      <td>75000</td>\n",
       "      <td>96</td>\n",
       "      <td>0</td>\n",
       "      <td>0</td>\n",
       "    </tr>\n",
       "    <tr>\n",
       "      <th>13</th>\n",
       "      <td>3</td>\n",
       "      <td>2</td>\n",
       "      <td>1680</td>\n",
       "      <td>4.0</td>\n",
       "      <td>0</td>\n",
       "      <td>422900</td>\n",
       "      <td>101</td>\n",
       "      <td>0</td>\n",
       "      <td>0</td>\n",
       "    </tr>\n",
       "  </tbody>\n",
       "</table>\n",
       "</div>"
      ],
      "text/plain": [
       "    number_of_bedrooms  number_of_bathrooms  total_livable_area  \\\n",
       "0                    4                    2                1344   \n",
       "2                    3                    1                1633   \n",
       "9                    3                    1                1120   \n",
       "11                   3                    1                1080   \n",
       "13                   3                    2                1680   \n",
       "\n",
       "    interior_condition  garage_spaces  sale_price  age  \\\n",
       "0                  4.0              0       90000  126   \n",
       "2                  4.0              1      154000   81   \n",
       "9                  4.0              0      145000   76   \n",
       "11                 4.0              0       75000   96   \n",
       "13                 4.0              0      422900  101   \n",
       "\n",
       "    full_finished_basement_Y  central_air_Y  \n",
       "0                          0              0  \n",
       "2                          0              0  \n",
       "9                          0              0  \n",
       "11                         0              0  \n",
       "13                         0              0  "
      ]
     },
     "execution_count": 5,
     "metadata": {},
     "output_type": "execute_result"
    }
   ],
   "source": [
    "housing_regression_df = pd.get_dummies(housing_regression_df)\n",
    "housing_regression_df = housing_regression_df.drop(columns=['central_air_N','full_finished_basement_N'])\n",
    "housing_regression_df.head()"
   ]
  },
  {
   "cell_type": "code",
   "execution_count": 6,
   "metadata": {},
   "outputs": [
    {
     "name": "stdout",
     "output_type": "stream",
     "text": [
      "(44245, 8)\n",
      "(44245, 1)\n",
      "\n",
      "['full_finished_basement_Y', 'central_air_Y', 'number_of_bedrooms', 'number_of_bathrooms', 'total_livable_area', 'interior_condition', 'garage_spaces', 'age']\n"
     ]
    }
   ],
   "source": [
    "# Drop categorical data values that are not relevant to the model\n",
    "X = housing_regression_df[['full_finished_basement_Y',\n",
    "                           'central_air_Y',\n",
    "                           'number_of_bedrooms',\n",
    "                           'number_of_bathrooms',\n",
    "                           'total_livable_area',\n",
    "                           'interior_condition',\n",
    "                           'garage_spaces',\n",
    "                           'age']]\n",
    "y = housing_regression_df['sale_price'].values.reshape(-1, 1)\n",
    "\n",
    "print(X.shape)\n",
    "print(y.shape)\n",
    "print()\n",
    "print(X.columns.tolist())"
   ]
  },
  {
   "cell_type": "markdown",
   "metadata": {},
   "source": [
    "## Raw Data Model "
   ]
  },
  {
   "cell_type": "code",
   "execution_count": 7,
   "metadata": {},
   "outputs": [],
   "source": [
    "# Use train_test_split to create training and testing data\n",
    "from sklearn.model_selection import train_test_split\n",
    "\n",
    "X_train, X_test, y_train, y_test = train_test_split(X, y, random_state=42)"
   ]
  },
  {
   "cell_type": "code",
   "execution_count": 8,
   "metadata": {},
   "outputs": [
    {
     "data": {
      "text/plain": [
       "LinearRegression()"
      ]
     },
     "execution_count": 8,
     "metadata": {},
     "output_type": "execute_result"
    }
   ],
   "source": [
    "# Create the model using LinearRegression\n",
    "from sklearn.linear_model import LinearRegression\n",
    "model = LinearRegression()\n",
    "model"
   ]
  },
  {
   "cell_type": "code",
   "execution_count": 9,
   "metadata": {
    "scrolled": true
   },
   "outputs": [
    {
     "name": "stdout",
     "output_type": "stream",
     "text": [
      "Training Score: 0.5353242902539245\n",
      "Testing Score: 0.5357902796098917\n"
     ]
    }
   ],
   "source": [
    "model.fit(X_train, y_train)\n",
    "training_score = model.score(X_train, y_train)\n",
    "testing_score = model.score(X_test, y_test)\n",
    "\n",
    "print(f\"Training Score: {training_score}\")\n",
    "print(f\"Testing Score: {testing_score}\")"
   ]
  },
  {
   "cell_type": "code",
   "execution_count": 10,
   "metadata": {},
   "outputs": [
    {
     "data": {
      "image/png": "[encoded data removed]",
      "text/plain": [
       "<Figure size 432x288 with 1 Axes>"
      ]
     },
     "metadata": {
      "needs_background": "light"
     },
     "output_type": "display_data"
    }
   ],
   "source": [
    "# Plot predicted values vs residual values\n",
    "plt.scatter(model.predict(X_train), y_train - model.predict(X_train), c=\"blue\", label=\"Training Data\")\n",
    "plt.scatter(model.predict(X_test), y_test - model.predict(X_test), c=\"orange\", label=\"Testing Data\")\n",
    "# plt.hlines(y=0, xmin=y_test_scaled.min(), xmax=y_test_scaled.max())\n",
    "plt.legend()\n",
    "plt.title(\"Residual Plot\")\n",
    "plt.show()"
   ]
  },
  {
   "cell_type": "markdown",
   "metadata": {},
   "source": [
    "## Standard Scaler Model "
   ]
  },
  {
   "cell_type": "code",
   "execution_count": 11,
   "metadata": {},
   "outputs": [
    {
     "name": "stdout",
     "output_type": "stream",
     "text": [
      "[3.67657017e-01 4.98080291e-01 7.39717532e-01 6.06795898e-01\n",
      " 4.76411875e+02 1.11507905e+00 5.38729786e-01 3.79720934e+01], [161070.54389656]\n"
     ]
    }
   ],
   "source": [
    "# Create a StandardScaler model and fit it to the training data\n",
    "from sklearn.preprocessing import StandardScaler\n",
    "\n",
    "X_scaler = StandardScaler().fit(X_train)\n",
    "y_scaler = StandardScaler().fit(y_train)\n",
    "print(f\"{X_scaler.scale_}, {y_scaler.scale_}\")"
   ]
  },
  {
   "cell_type": "code",
   "execution_count": 12,
   "metadata": {},
   "outputs": [],
   "source": [
    "# Transform the training and testing data using the X_scaler and y_scaler models\n",
    "X_train_scaled = X_scaler.transform(X_train)\n",
    "X_test_scaled = X_scaler.transform(X_test)\n",
    "y_train_scaled = y_scaler.transform(y_train)\n",
    "y_test_scaled = y_scaler.transform(y_test)"
   ]
  },
  {
   "cell_type": "code",
   "execution_count": 13,
   "metadata": {},
   "outputs": [
    {
     "data": {
      "text/plain": [
       "LinearRegression()"
      ]
     },
     "execution_count": 13,
     "metadata": {},
     "output_type": "execute_result"
    }
   ],
   "source": [
    "# Create a LinearRegression model and fit it to the scaled training data\n",
    "model = LinearRegression()\n",
    "model.fit(X_train_scaled, y_train_scaled)"
   ]
  },
  {
   "cell_type": "code",
   "execution_count": 24,
   "metadata": {},
   "outputs": [
    {
     "data": {
      "image/png": "[encoded data removed]",
      "text/plain": [
       "<Figure size 432x288 with 1 Axes>"
      ]
     },
     "metadata": {
      "needs_background": "light"
     },
     "output_type": "display_data"
    }
   ],
   "source": [
    "predictions = model.predict(X_test_scaled)\n",
    "model.fit(X_train_scaled, y_train_scaled)\n",
    "plt.scatter(model.predict(X_train_scaled), y_train_scaled - model.predict(X_train_scaled), c=\"blue\", label=\"Training Data\")\n",
    "plt.scatter(model.predict(X_test_scaled), y_test_scaled - model.predict(X_test_scaled), c=\"orange\", label=\"Testing Data\")\n",
    "plt.legend()\n",
    "plt.hlines(y=0, xmin=y_test_scaled.min(), xmax=y_test_scaled.max())\n",
    "plt.title(\"Residual Plot\")\n",
    "plt.show()"
   ]
  },
  {
   "cell_type": "code",
   "execution_count": 15,
   "metadata": {},
   "outputs": [
    {
     "name": "stdout",
     "output_type": "stream",
     "text": [
      "MSE: 0.455, R2: 0.536\n"
     ]
    }
   ],
   "source": [
    "# Used X_test_scaled, y_test_scaled, and model.predict(X_test_scaled) to calculate MSE and R2\n",
    "from sklearn.metrics import mean_squared_error\n",
    "\n",
    "MSE_LR = mean_squared_error(y_test_scaled, predictions)\n",
    "r2_LR = model.score(X_test_scaled, y_test_scaled)\n",
    "\n",
    "print(f\"MSE: {round(MSE_LR,3)}, R2: {round(r2_LR,3)}\")"
   ]
  },
  {
   "cell_type": "markdown",
   "metadata": {},
   "source": [
    "## LASSO Model"
   ]
  },
  {
   "cell_type": "code",
   "execution_count": 16,
   "metadata": {},
   "outputs": [
    {
     "name": "stdout",
     "output_type": "stream",
     "text": [
      "MSE: 0.455, R2: 0.535\n"
     ]
    }
   ],
   "source": [
    "from sklearn.linear_model import Lasso\n",
    "\n",
    "lasso = Lasso(alpha=0.01).fit(X_train_scaled, y_train_scaled)\n",
    "predictions = lasso.predict(X_test_scaled)\n",
    "\n",
    "MSE_lasso = mean_squared_error(y_test_scaled, predictions)\n",
    "r2_lasso = lasso.score(X_test_scaled, y_test_scaled)\n",
    "\n",
    "print(f\"MSE: {round(MSE_lasso,3)}, R2: {round(r2_lasso,3)}\")"
   ]
  },
  {
   "cell_type": "markdown",
   "metadata": {},
   "source": [
    "## Ridge Model"
   ]
  },
  {
   "cell_type": "code",
   "execution_count": 17,
   "metadata": {},
   "outputs": [
    {
     "name": "stdout",
     "output_type": "stream",
     "text": [
      "MSE: 0.455, R2: 0.536\n"
     ]
    }
   ],
   "source": [
    "from sklearn.linear_model import Ridge\n",
    "\n",
    "ridge = Ridge(alpha=.01).fit(X_train_scaled, y_train_scaled)\n",
    "predictions = ridge.predict(X_test_scaled)\n",
    "\n",
    "MSE_ridge = mean_squared_error(y_test_scaled, predictions)\n",
    "r2_ridge = ridge.score(X_test_scaled, y_test_scaled)\n",
    "\n",
    "print(f\"MSE: {round(MSE_ridge,3)}, R2: {round(r2_ridge,3)}\")"
   ]
  },
  {
   "cell_type": "markdown",
   "metadata": {},
   "source": [
    "## ElasticNet Model"
   ]
  },
  {
   "cell_type": "code",
   "execution_count": 18,
   "metadata": {},
   "outputs": [
    {
     "name": "stdout",
     "output_type": "stream",
     "text": [
      "MSE: 0.455, R2: 0.536\n"
     ]
    }
   ],
   "source": [
    "from sklearn.linear_model import ElasticNet\n",
    "\n",
    "elasticnet = ElasticNet(alpha=.01).fit(X_train_scaled, y_train_scaled)\n",
    "predictions = elasticnet.predict(X_test_scaled)\n",
    "\n",
    "MSE_EL = mean_squared_error(y_test_scaled, predictions)\n",
    "r2_EL = elasticnet.score(X_test_scaled, y_test_scaled)\n",
    "\n",
    "print(f\"MSE: {round(MSE_EL,3)}, R2: {round(r2_EL,3)}\")"
   ]
  },
  {
   "cell_type": "markdown",
   "metadata": {},
   "source": [
    "### Model Scores "
   ]
  },
  {
   "cell_type": "code",
   "execution_count": 19,
   "metadata": {},
   "outputs": [
    {
     "data": {
      "text/html": [
       "<div>\n",
       "<style scoped>\n",
       "    .dataframe tbody tr th:only-of-type {\n",
       "        vertical-align: middle;\n",
       "    }\n",
       "\n",
       "    .dataframe tbody tr th {\n",
       "        vertical-align: top;\n",
       "    }\n",
       "\n",
       "    .dataframe thead th {\n",
       "        text-align: right;\n",
       "    }\n",
       "</style>\n",
       "<table border=\"1\" class=\"dataframe\">\n",
       "  <thead>\n",
       "    <tr style=\"text-align: right;\">\n",
       "      <th></th>\n",
       "      <th>R2 Score</th>\n",
       "    </tr>\n",
       "  </thead>\n",
       "  <tbody>\n",
       "    <tr>\n",
       "      <th>Linear Regression</th>\n",
       "      <td>0.53579</td>\n",
       "    </tr>\n",
       "  </tbody>\n",
       "</table>\n",
       "</div>"
      ],
      "text/plain": [
       "                   R2 Score\n",
       "Linear Regression   0.53579"
      ]
     },
     "execution_count": 19,
     "metadata": {},
     "output_type": "execute_result"
    }
   ],
   "source": [
    "# Display scores of all models tested\n",
    "r2_results = [r2_LR, r2_lasso, r2_ridge, r2_EL]\n",
    "# MSE_results = [MSE_LR, MSE_lasso, MSE_ridge, MSE_EL]\n",
    "r2_indices = ['Linear Regression','LASSO','Ridge','ElasticNet']\n",
    "\n",
    "results = pd.DataFrame({\"R2 Score\": r2_results[0]}, index=[r2_indices[0]]).sort_values('R2 Score', ascending=False)\n",
    "results"
   ]
  },
  {
   "cell_type": "code",
   "execution_count": 20,
   "metadata": {},
   "outputs": [
    {
     "data": {
      "text/html": [
       "<div>\n",
       "<style scoped>\n",
       "    .dataframe tbody tr th:only-of-type {\n",
       "        vertical-align: middle;\n",
       "    }\n",
       "\n",
       "    .dataframe tbody tr th {\n",
       "        vertical-align: top;\n",
       "    }\n",
       "\n",
       "    .dataframe thead th {\n",
       "        text-align: right;\n",
       "    }\n",
       "</style>\n",
       "<table border=\"1\" class=\"dataframe\">\n",
       "  <thead>\n",
       "    <tr style=\"text-align: right;\">\n",
       "      <th></th>\n",
       "      <th>LR Weights</th>\n",
       "      <th>LASSO Weights</th>\n",
       "      <th>Ridge Weights</th>\n",
       "      <th>ElasticNet Weights</th>\n",
       "    </tr>\n",
       "  </thead>\n",
       "  <tbody>\n",
       "    <tr>\n",
       "      <th>full_finished_basement_Y</th>\n",
       "      <td>-0.008</td>\n",
       "      <td>0.000</td>\n",
       "      <td>-0.008</td>\n",
       "      <td>-0.000</td>\n",
       "    </tr>\n",
       "    <tr>\n",
       "      <th>central_air_Y</th>\n",
       "      <td>0.243</td>\n",
       "      <td>0.240</td>\n",
       "      <td>0.243</td>\n",
       "      <td>0.240</td>\n",
       "    </tr>\n",
       "    <tr>\n",
       "      <th>number_of_bedrooms</th>\n",
       "      <td>-0.116</td>\n",
       "      <td>-0.098</td>\n",
       "      <td>-0.116</td>\n",
       "      <td>-0.105</td>\n",
       "    </tr>\n",
       "    <tr>\n",
       "      <th>number_of_bathrooms</th>\n",
       "      <td>0.133</td>\n",
       "      <td>0.127</td>\n",
       "      <td>0.133</td>\n",
       "      <td>0.130</td>\n",
       "    </tr>\n",
       "    <tr>\n",
       "      <th>total_livable_area</th>\n",
       "      <td>0.430</td>\n",
       "      <td>0.411</td>\n",
       "      <td>0.430</td>\n",
       "      <td>0.417</td>\n",
       "    </tr>\n",
       "    <tr>\n",
       "      <th>interior_condition</th>\n",
       "      <td>-0.239</td>\n",
       "      <td>-0.238</td>\n",
       "      <td>-0.239</td>\n",
       "      <td>-0.237</td>\n",
       "    </tr>\n",
       "    <tr>\n",
       "      <th>garage_spaces</th>\n",
       "      <td>-0.028</td>\n",
       "      <td>-0.012</td>\n",
       "      <td>-0.028</td>\n",
       "      <td>-0.019</td>\n",
       "    </tr>\n",
       "    <tr>\n",
       "      <th>age</th>\n",
       "      <td>-0.007</td>\n",
       "      <td>-0.000</td>\n",
       "      <td>-0.007</td>\n",
       "      <td>-0.004</td>\n",
       "    </tr>\n",
       "  </tbody>\n",
       "</table>\n",
       "</div>"
      ],
      "text/plain": [
       "                          LR Weights  LASSO Weights  Ridge Weights  \\\n",
       "full_finished_basement_Y      -0.008          0.000         -0.008   \n",
       "central_air_Y                  0.243          0.240          0.243   \n",
       "number_of_bedrooms            -0.116         -0.098         -0.116   \n",
       "number_of_bathrooms            0.133          0.127          0.133   \n",
       "total_livable_area             0.430          0.411          0.430   \n",
       "interior_condition            -0.239         -0.238         -0.239   \n",
       "garage_spaces                 -0.028         -0.012         -0.028   \n",
       "age                           -0.007         -0.000         -0.007   \n",
       "\n",
       "                          ElasticNet Weights  \n",
       "full_finished_basement_Y              -0.000  \n",
       "central_air_Y                          0.240  \n",
       "number_of_bedrooms                    -0.105  \n",
       "number_of_bathrooms                    0.130  \n",
       "total_livable_area                     0.417  \n",
       "interior_condition                    -0.237  \n",
       "garage_spaces                         -0.019  \n",
       "age                                   -0.004  "
      ]
     },
     "execution_count": 20,
     "metadata": {},
     "output_type": "execute_result"
    }
   ],
   "source": [
    "# Look at variables with the most impact on the models\n",
    "correlated_variables = X.columns\n",
    "\n",
    "weights = pd.DataFrame({'LR Weights': [round(x,3) for x in model.coef_[0]],\n",
    "              'LASSO Weights': [round(x,3) for x in lasso.coef_],\n",
    "              'Ridge Weights': [round(x,3) for x in ridge.coef_[0]],\n",
    "              'ElasticNet Weights': [round(x,3) for x in elasticnet.coef_]}, \n",
    "              index=[correlated_variables])\n",
    "weights"
   ]
  },
  {
   "cell_type": "markdown",
   "metadata": {},
   "source": [
    "# Final Model"
   ]
  },
  {
   "cell_type": "code",
   "execution_count": 21,
   "metadata": {},
   "outputs": [
    {
     "data": {
      "text/html": [
       "<div>\n",
       "<style scoped>\n",
       "    .dataframe tbody tr th:only-of-type {\n",
       "        vertical-align: middle;\n",
       "    }\n",
       "\n",
       "    .dataframe tbody tr th {\n",
       "        vertical-align: top;\n",
       "    }\n",
       "\n",
       "    .dataframe thead th {\n",
       "        text-align: right;\n",
       "    }\n",
       "</style>\n",
       "<table border=\"1\" class=\"dataframe\">\n",
       "  <thead>\n",
       "    <tr style=\"text-align: right;\">\n",
       "      <th></th>\n",
       "      <th>Inputs</th>\n",
       "      <th>Weight</th>\n",
       "      <th>Scaler</th>\n",
       "      <th>Coefficient</th>\n",
       "    </tr>\n",
       "  </thead>\n",
       "  <tbody>\n",
       "    <tr>\n",
       "      <th>0</th>\n",
       "      <td>full_finished_basement_Y</td>\n",
       "      <td>-0.007693</td>\n",
       "      <td>0.367657</td>\n",
       "      <td>-0.002828</td>\n",
       "    </tr>\n",
       "    <tr>\n",
       "      <th>1</th>\n",
       "      <td>central_air_Y</td>\n",
       "      <td>0.243216</td>\n",
       "      <td>0.498080</td>\n",
       "      <td>0.121141</td>\n",
       "    </tr>\n",
       "    <tr>\n",
       "      <th>2</th>\n",
       "      <td>number_of_bedrooms</td>\n",
       "      <td>-0.116074</td>\n",
       "      <td>0.739718</td>\n",
       "      <td>-0.085862</td>\n",
       "    </tr>\n",
       "    <tr>\n",
       "      <th>3</th>\n",
       "      <td>number_of_bathrooms</td>\n",
       "      <td>0.132845</td>\n",
       "      <td>0.606796</td>\n",
       "      <td>0.080610</td>\n",
       "    </tr>\n",
       "    <tr>\n",
       "      <th>4</th>\n",
       "      <td>total_livable_area</td>\n",
       "      <td>0.429660</td>\n",
       "      <td>476.411875</td>\n",
       "      <td>204.695133</td>\n",
       "    </tr>\n",
       "    <tr>\n",
       "      <th>5</th>\n",
       "      <td>interior_condition</td>\n",
       "      <td>-0.239082</td>\n",
       "      <td>1.115079</td>\n",
       "      <td>-0.266595</td>\n",
       "    </tr>\n",
       "    <tr>\n",
       "      <th>6</th>\n",
       "      <td>garage_spaces</td>\n",
       "      <td>-0.027723</td>\n",
       "      <td>0.538730</td>\n",
       "      <td>-0.014935</td>\n",
       "    </tr>\n",
       "    <tr>\n",
       "      <th>7</th>\n",
       "      <td>age</td>\n",
       "      <td>-0.006953</td>\n",
       "      <td>37.972093</td>\n",
       "      <td>-0.264030</td>\n",
       "    </tr>\n",
       "  </tbody>\n",
       "</table>\n",
       "</div>"
      ],
      "text/plain": [
       "                     Inputs    Weight      Scaler  Coefficient\n",
       "0  full_finished_basement_Y -0.007693    0.367657    -0.002828\n",
       "1             central_air_Y  0.243216    0.498080     0.121141\n",
       "2        number_of_bedrooms -0.116074    0.739718    -0.085862\n",
       "3       number_of_bathrooms  0.132845    0.606796     0.080610\n",
       "4        total_livable_area  0.429660  476.411875   204.695133\n",
       "5        interior_condition -0.239082    1.115079    -0.266595\n",
       "6             garage_spaces -0.027723    0.538730    -0.014935\n",
       "7                       age -0.006953   37.972093    -0.264030"
      ]
     },
     "execution_count": 21,
     "metadata": {},
     "output_type": "execute_result"
    }
   ],
   "source": [
    "final_model_r2 = pd.DataFrame({\"R2 Score\": r2_LR}, index=['Linear Regression']).sort_values('R2 Score', ascending=False)\n",
    "final_model_coefficients = pd.DataFrame({'Weight': model.coef_[0],\n",
    "                                         'Scaler': X_scaler.scale_,\n",
    "                                         'Coefficient': model.coef_[0] * X_scaler.scale_}, index=[correlated_variables])\n",
    "\n",
    "final_model_coefficients = final_model_coefficients.reset_index().rename(columns={'level_0':'Inputs'})\n",
    "final_model_coefficients"
   ]
  },
  {
   "cell_type": "code",
   "execution_count": 22,
   "metadata": {},
   "outputs": [],
   "source": [
    "final_model_coefficients.to_csv('Results/Final_Model_Coefficients.csv', index=False)\n",
    "results.to_csv('Results/Final_Model_R2.csv', index=False)"
   ]
  },
  {
   "cell_type": "code",
   "execution_count": null,
   "metadata": {},
   "outputs": [],
   "source": []
  }
 ],
 "metadata": {
  "kernelspec": {
   "display_name": "Python [conda env:PythonAdv]",
   "language": "python",
   "name": "conda-env-PythonAdv-py"
  },
  "language_info": {
   "codemirror_mode": {
    "name": "ipython",
    "version": 3
   },
   "file_extension": ".py",
   "mimetype": "text/x-python",
   "name": "python",
   "nbconvert_exporter": "python",
   "pygments_lexer": "ipython3",
   "version": "3.6.13"
  }
 },
 "nbformat": 4,
 "nbformat_minor": 4
}
