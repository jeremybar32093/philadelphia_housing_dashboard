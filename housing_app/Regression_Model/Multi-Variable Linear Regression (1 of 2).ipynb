{
 "cells": [
  {
   "cell_type": "markdown",
   "metadata": {},
   "source": [
    "# This regression script models houses that were sold for under $1,000,000."
   ]
  },
  {
   "cell_type": "code",
   "execution_count": 1,
   "metadata": {},
   "outputs": [],
   "source": [
    "# Import libraries for data manipulation\n",
    "import pandas as pd\n",
    "import matplotlib.pyplot as plt\n",
    "import numpy as np# This regression script models houses that were sold for over $1,000,000.\n",
    "import seaborn as sns\n",
    "%matplotlib inline\n",
    "\n",
    "# Import libraries for regression modeling\n",
    "from sklearn.datasets import make_regression\n",
    "from sklearn.linear_model import LinearRegression"
   ]
  },
  {
   "cell_type": "code",
   "execution_count": 2,
   "metadata": {
    "scrolled": false
   },
   "outputs": [
    {
     "data": {
      "text/plain": [
       "id                       int64\n",
       "census_tract             int64\n",
       "depth                  float64\n",
       "exempt_building          int64\n",
       "exempt_land              int64\n",
       "exterior_condition       int64\n",
       "fireplaces               int64\n",
       "frontage               float64\n",
       "garage_spaces            int64\n",
       "geographic_ward          int64\n",
       "interior_condition     float64\n",
       "market_value             int64\n",
       "market_value_date      float64\n",
       "number_of_bathrooms      int64\n",
       "number_of_bedrooms       int64\n",
       "number_of_rooms          int64\n",
       "number_stories           int64\n",
       "quality_grade          float64\n",
       "sale_price               int64\n",
       "taxable_building         int64\n",
       "taxable_land             int64\n",
       "total_area             float64\n",
       "total_livable_area       int64\n",
       "year_built               int64\n",
       "zip_code                 int64\n",
       "dtype: object"
      ]
     },
     "execution_count": 2,
     "metadata": {},
     "output_type": "execute_result"
    }
   ],
   "source": [
    "# Import data from csv file\n",
    "original_data = pd.read_csv('../source_data/housing_data_cleaned.csv')\n",
    "\n",
    "df = original_data.select_dtypes(exclude=object)\n",
    "df.dtypes"
   ]
  },
  {
   "cell_type": "code",
   "execution_count": 3,
   "metadata": {},
   "outputs": [],
   "source": [
    "# Analyze houses that are under $1,000,000\n",
    "df = df.loc[df['sale_price'] < 1000000, :]"
   ]
  },
  {
   "cell_type": "code",
   "execution_count": 4,
   "metadata": {},
   "outputs": [],
   "source": [
    "data = df.copy()"
   ]
  },
  {
   "cell_type": "code",
   "execution_count": 5,
   "metadata": {},
   "outputs": [
    {
     "name": "stdout",
     "output_type": "stream",
     "text": [
      "(67367, 18)\n",
      "(67367, 1)\n"
     ]
    }
   ],
   "source": [
    "# Select categorical data values and reshape to arrays\n",
    "# sig_columns = ['market_value','number_of_rooms','total_livable_area']\n",
    "X = data.drop(['sale_price', 'depth','frontage','interior_condition','market_value_date','quality_grade','total_area'], axis=1)\n",
    "# X = data[sig_columns]\n",
    "y = data['sale_price'].values.reshape(-1, 1)\n",
    "\n",
    "print(X.shape)\n",
    "print(y.shape)"
   ]
  },
  {
   "cell_type": "code",
   "execution_count": 6,
   "metadata": {},
   "outputs": [],
   "source": [
    "# Use train_test_split to create training and testing data\n",
    "from sklearn.model_selection import train_test_split\n",
    "\n",
    "X_train, X_test, y_train, y_test = train_test_split(X, y, random_state=42)"
   ]
  },
  {
   "cell_type": "markdown",
   "metadata": {},
   "source": [
    "## Raw Data Model "
   ]
  },
  {
   "cell_type": "code",
   "execution_count": 7,
   "metadata": {},
   "outputs": [],
   "source": [
    "# Use train_test_split to create training and testing data\n",
    "from sklearn.model_selection import train_test_split\n",
    "\n",
    "X_train, X_test, y_train, y_test = train_test_split(X, y, random_state=42)"
   ]
  },
  {
   "cell_type": "code",
   "execution_count": 8,
   "metadata": {},
   "outputs": [
    {
     "data": {
      "text/plain": [
       "LinearRegression()"
      ]
     },
     "execution_count": 8,
     "metadata": {},
     "output_type": "execute_result"
    }
   ],
   "source": [
    "# Create the model using LinearRegression\n",
    "from sklearn.linear_model import LinearRegression\n",
    "model = LinearRegression()\n",
    "model"
   ]
  },
  {
   "cell_type": "code",
   "execution_count": 9,
   "metadata": {
    "scrolled": true
   },
   "outputs": [
    {
     "name": "stdout",
     "output_type": "stream",
     "text": [
      "Training Score: 0.78\n",
      "Testing Score: 0.766\n"
     ]
    }
   ],
   "source": [
    "model.fit(X_train, y_train)\n",
    "training_score = model.score(X_train, y_train)\n",
    "testing_score = model.score(X_test, y_test)\n",
    "\n",
    "print(f\"Training Score: {round(training_score, 3)}\")\n",
    "print(f\"Testing Score: {round(testing_score, 3)}\")"
   ]
  },
  {
   "cell_type": "code",
   "execution_count": 10,
   "metadata": {},
   "outputs": [
    {
     "data": {
      "image/png": "[encoded data removed]",
      "text/plain": [
       "<Figure size 432x288 with 1 Axes>"
      ]
     },
     "metadata": {
      "needs_background": "light"
     },
     "output_type": "display_data"
    }
   ],
   "source": [
    "# Plot trained data and test data\n",
    "plt.scatter(model.predict(X_train), y_train, c=\"blue\", label=\"Training Data\")\n",
    "plt.scatter(model.predict(X_test), y_test, c=\"orange\", label=\"Testing Data\")\n",
    "plt.legend()\n",
    "plt.title(\"Residual Plot\")\n",
    "plt.show()"
   ]
  },
  {
   "cell_type": "markdown",
   "metadata": {},
   "source": [
    "## Standard Scaler Model "
   ]
  },
  {
   "cell_type": "code",
   "execution_count": 11,
   "metadata": {},
   "outputs": [],
   "source": [
    "# Create a StandardScaler model and fit it to the training data\n",
    "from sklearn.preprocessing import StandardScaler\n",
    "\n",
    "X_scaler = StandardScaler().fit(X_train)\n",
    "y_scaler = StandardScaler().fit(y_train)"
   ]
  },
  {
   "cell_type": "code",
   "execution_count": 12,
   "metadata": {},
   "outputs": [],
   "source": [
    "# Transform the training and testing data using the X_scaler and y_scaler models\n",
    "X_train_scaled = X_scaler.transform(X_train)\n",
    "X_test_scaled = X_scaler.transform(X_test)\n",
    "y_train_scaled = y_scaler.transform(y_train)\n",
    "y_test_scaled = y_scaler.transform(y_test)"
   ]
  },
  {
   "cell_type": "code",
   "execution_count": 13,
   "metadata": {},
   "outputs": [
    {
     "data": {
      "text/plain": [
       "LinearRegression()"
      ]
     },
     "execution_count": 13,
     "metadata": {},
     "output_type": "execute_result"
    }
   ],
   "source": [
    "# Create a LinearRegression model and fit it to the scaled training data\n",
    "model = LinearRegression()\n",
    "model.fit(X_train_scaled, y_train_scaled)"
   ]
  },
  {
   "cell_type": "code",
   "execution_count": 14,
   "metadata": {},
   "outputs": [
    {
     "data": {
      "text/plain": [
       "array([[-1.37223892e-01, -3.95606406e-02, -4.19055303e+11,\n",
       "        -7.52439452e+09, -7.49830730e-02,  1.63517823e-02,\n",
       "         1.66750791e-02, -5.35688112e-03,  6.70423778e+11,\n",
       "         1.94446066e-02, -1.79397416e-02, -2.94863210e-02,\n",
       "         8.46448612e-03, -4.00055304e+11, -1.79018077e+11,\n",
       "         5.99794520e-02, -2.13112708e-04, -1.61738691e-03]])"
      ]
     },
     "execution_count": 14,
     "metadata": {},
     "output_type": "execute_result"
    }
   ],
   "source": [
    "model.coef_"
   ]
  },
  {
   "cell_type": "code",
   "execution_count": 15,
   "metadata": {},
   "outputs": [
    {
     "data": {
      "image/png": "[encoded data removed]",
      "text/plain": [
       "<Figure size 432x288 with 1 Axes>"
      ]
     },
     "metadata": {
      "needs_background": "light"
     },
     "output_type": "display_data"
    }
   ],
   "source": [
    "predictions = model.predict(X_test_scaled)\n",
    "model.fit(X_train_scaled, y_train_scaled)\n",
    "plt.scatter(model.predict(X_train_scaled), y_train_scaled, c=\"blue\", label=\"Training Data\")\n",
    "plt.scatter(model.predict(X_test_scaled), y_test_scaled, c=\"orange\", label=\"Testing Data\")\n",
    "plt.legend()\n",
    "plt.hlines(y=0, xmin=y_test_scaled.min(), xmax=y_test_scaled.max())\n",
    "plt.title(\"Residual Plot\")\n",
    "plt.show()"
   ]
  },
  {
   "cell_type": "code",
   "execution_count": 16,
   "metadata": {},
   "outputs": [
    {
     "name": "stdout",
     "output_type": "stream",
     "text": [
      "MSE: 0.235, R2: 0.766\n"
     ]
    }
   ],
   "source": [
    "# Used X_test_scaled, y_test_scaled, and model.predict(X_test_scaled) to calculate MSE and R2\n",
    "from sklearn.metrics import mean_squared_error\n",
    "\n",
    "MSE_LR = mean_squared_error(y_test_scaled, predictions)\n",
    "r2_LR = model.score(X_test_scaled, y_test_scaled)\n",
    "\n",
    "print(f\"MSE: {round(MSE_LR,3)}, R2: {round(r2_LR,3)}\")"
   ]
  },
  {
   "cell_type": "markdown",
   "metadata": {},
   "source": [
    "## LASSO Model"
   ]
  },
  {
   "cell_type": "code",
   "execution_count": 17,
   "metadata": {},
   "outputs": [
    {
     "name": "stdout",
     "output_type": "stream",
     "text": [
      "MSE: 0.237, R2: 0.763\n"
     ]
    }
   ],
   "source": [
    "from sklearn.linear_model import Lasso\n",
    "\n",
    "lasso = Lasso(alpha=0.01).fit(X_train_scaled, y_train_scaled)\n",
    "predictions = lasso.predict(X_test_scaled)\n",
    "\n",
    "MSE_lasso = mean_squared_error(y_test_scaled, predictions)\n",
    "r2_lasso = lasso.score(X_test_scaled, y_test_scaled)\n",
    "\n",
    "print(f\"MSE: {round(MSE_lasso,3)}, R2: {round(r2_lasso,3)}\")"
   ]
  },
  {
   "cell_type": "markdown",
   "metadata": {},
   "source": [
    "## Ridge Model"
   ]
  },
  {
   "cell_type": "code",
   "execution_count": 18,
   "metadata": {},
   "outputs": [
    {
     "name": "stdout",
     "output_type": "stream",
     "text": [
      "MSE: 0.235, R2: 0.766\n"
     ]
    }
   ],
   "source": [
    "from sklearn.linear_model import Ridge\n",
    "\n",
    "ridge = Ridge(alpha=.01).fit(X_train_scaled, y_train_scaled)\n",
    "\n",
    "predictions = ridge.predict(X_test_scaled)\n",
    "\n",
    "MSE_ridge = mean_squared_error(y_test_scaled, predictions)\n",
    "r2_ridge = ridge.score(X_test_scaled, y_test_scaled)\n",
    "\n",
    "print(f\"MSE: {round(MSE_ridge,3)}, R2: {round(r2_ridge,3)}\")"
   ]
  },
  {
   "cell_type": "markdown",
   "metadata": {},
   "source": [
    "## ElasticNet Model"
   ]
  },
  {
   "cell_type": "code",
   "execution_count": 19,
   "metadata": {},
   "outputs": [
    {
     "name": "stdout",
     "output_type": "stream",
     "text": [
      "MSE: 0.234, R2: 0.766\n"
     ]
    }
   ],
   "source": [
    "from sklearn.linear_model import ElasticNet\n",
    "\n",
    "elasticnet = ElasticNet(alpha=.01).fit(X_train_scaled, y_train_scaled)\n",
    "\n",
    "predictions = elasticnet.predict(X_test_scaled)\n",
    "\n",
    "MSE_EL = mean_squared_error(y_test_scaled, predictions)\n",
    "r2_EL = elasticnet.score(X_test_scaled, y_test_scaled)\n",
    "\n",
    "print(f\"MSE: {round(MSE_EL,3)}, R2: {round(r2_EL,3)}\")"
   ]
  },
  {
   "cell_type": "markdown",
   "metadata": {},
   "source": [
    "### Model Scores "
   ]
  },
  {
   "cell_type": "code",
   "execution_count": 20,
   "metadata": {},
   "outputs": [
    {
     "data": {
      "text/html": [
       "<div>\n",
       "<style scoped>\n",
       "    .dataframe tbody tr th:only-of-type {\n",
       "        vertical-align: middle;\n",
       "    }\n",
       "\n",
       "    .dataframe tbody tr th {\n",
       "        vertical-align: top;\n",
       "    }\n",
       "\n",
       "    .dataframe thead th {\n",
       "        text-align: right;\n",
       "    }\n",
       "</style>\n",
       "<table border=\"1\" class=\"dataframe\">\n",
       "  <thead>\n",
       "    <tr style=\"text-align: right;\">\n",
       "      <th></th>\n",
       "      <th>R2 Score</th>\n",
       "      <th>MSE Score</th>\n",
       "    </tr>\n",
       "  </thead>\n",
       "  <tbody>\n",
       "    <tr>\n",
       "      <th>Linear Regression</th>\n",
       "      <td>0.765699</td>\n",
       "      <td>0.234660</td>\n",
       "    </tr>\n",
       "    <tr>\n",
       "      <th>LASSO</th>\n",
       "      <td>0.763379</td>\n",
       "      <td>0.236984</td>\n",
       "    </tr>\n",
       "    <tr>\n",
       "      <th>Ridge</th>\n",
       "      <td>0.765749</td>\n",
       "      <td>0.234610</td>\n",
       "    </tr>\n",
       "    <tr>\n",
       "      <th>ElasticNet</th>\n",
       "      <td>0.766089</td>\n",
       "      <td>0.234269</td>\n",
       "    </tr>\n",
       "  </tbody>\n",
       "</table>\n",
       "</div>"
      ],
      "text/plain": [
       "                   R2 Score  MSE Score\n",
       "Linear Regression  0.765699   0.234660\n",
       "LASSO              0.763379   0.236984\n",
       "Ridge              0.765749   0.234610\n",
       "ElasticNet         0.766089   0.234269"
      ]
     },
     "execution_count": 20,
     "metadata": {},
     "output_type": "execute_result"
    }
   ],
   "source": [
    "# Display scores of all models tested\n",
    "r2_results = [r2_LR, r2_lasso, r2_ridge, r2_EL]\n",
    "MSE_results = [MSE_LR, MSE_lasso, MSE_ridge, MSE_EL]\n",
    "r2_indices = ['Linear Regression','LASSO','Ridge','ElasticNet']\n",
    "\n",
    "results = pd.DataFrame({\"R2 Score\": r2_results,\n",
    "                        \"MSE Score\": MSE_results}, \n",
    "                       index=[r2_indices])\n",
    "\n",
    "results"
   ]
  },
  {
   "cell_type": "code",
   "execution_count": 21,
   "metadata": {},
   "outputs": [
    {
     "data": {
      "text/html": [
       "<div>\n",
       "<style scoped>\n",
       "    .dataframe tbody tr th:only-of-type {\n",
       "        vertical-align: middle;\n",
       "    }\n",
       "\n",
       "    .dataframe tbody tr th {\n",
       "        vertical-align: top;\n",
       "    }\n",
       "\n",
       "    .dataframe thead th {\n",
       "        text-align: right;\n",
       "    }\n",
       "</style>\n",
       "<table border=\"1\" class=\"dataframe\">\n",
       "  <thead>\n",
       "    <tr style=\"text-align: right;\">\n",
       "      <th></th>\n",
       "      <th>Magnitude</th>\n",
       "    </tr>\n",
       "  </thead>\n",
       "  <tbody>\n",
       "    <tr>\n",
       "      <th>market_value</th>\n",
       "      <td>6.704238e+11</td>\n",
       "    </tr>\n",
       "    <tr>\n",
       "      <th>total_livable_area</th>\n",
       "      <td>5.997945e-02</td>\n",
       "    </tr>\n",
       "    <tr>\n",
       "      <th>number_of_bathrooms</th>\n",
       "      <td>1.944461e-02</td>\n",
       "    </tr>\n",
       "    <tr>\n",
       "      <th>garage_spaces</th>\n",
       "      <td>1.667508e-02</td>\n",
       "    </tr>\n",
       "    <tr>\n",
       "      <th>fireplaces</th>\n",
       "      <td>1.635178e-02</td>\n",
       "    </tr>\n",
       "    <tr>\n",
       "      <th>number_stories</th>\n",
       "      <td>8.464486e-03</td>\n",
       "    </tr>\n",
       "    <tr>\n",
       "      <th>year_built</th>\n",
       "      <td>-2.131127e-04</td>\n",
       "    </tr>\n",
       "    <tr>\n",
       "      <th>zip_code</th>\n",
       "      <td>-1.617387e-03</td>\n",
       "    </tr>\n",
       "    <tr>\n",
       "      <th>geographic_ward</th>\n",
       "      <td>-5.356881e-03</td>\n",
       "    </tr>\n",
       "    <tr>\n",
       "      <th>number_of_bedrooms</th>\n",
       "      <td>-1.793974e-02</td>\n",
       "    </tr>\n",
       "    <tr>\n",
       "      <th>number_of_rooms</th>\n",
       "      <td>-2.948632e-02</td>\n",
       "    </tr>\n",
       "    <tr>\n",
       "      <th>census_tract</th>\n",
       "      <td>-3.956064e-02</td>\n",
       "    </tr>\n",
       "    <tr>\n",
       "      <th>exterior_condition</th>\n",
       "      <td>-7.498307e-02</td>\n",
       "    </tr>\n",
       "    <tr>\n",
       "      <th>id</th>\n",
       "      <td>-1.372239e-01</td>\n",
       "    </tr>\n",
       "    <tr>\n",
       "      <th>exempt_land</th>\n",
       "      <td>-7.524395e+09</td>\n",
       "    </tr>\n",
       "    <tr>\n",
       "      <th>taxable_land</th>\n",
       "      <td>-1.790181e+11</td>\n",
       "    </tr>\n",
       "    <tr>\n",
       "      <th>taxable_building</th>\n",
       "      <td>-4.000553e+11</td>\n",
       "    </tr>\n",
       "    <tr>\n",
       "      <th>exempt_building</th>\n",
       "      <td>-4.190553e+11</td>\n",
       "    </tr>\n",
       "  </tbody>\n",
       "</table>\n",
       "</div>"
      ],
      "text/plain": [
       "                        Magnitude\n",
       "market_value         6.704238e+11\n",
       "total_livable_area   5.997945e-02\n",
       "number_of_bathrooms  1.944461e-02\n",
       "garage_spaces        1.667508e-02\n",
       "fireplaces           1.635178e-02\n",
       "number_stories       8.464486e-03\n",
       "year_built          -2.131127e-04\n",
       "zip_code            -1.617387e-03\n",
       "geographic_ward     -5.356881e-03\n",
       "number_of_bedrooms  -1.793974e-02\n",
       "number_of_rooms     -2.948632e-02\n",
       "census_tract        -3.956064e-02\n",
       "exterior_condition  -7.498307e-02\n",
       "id                  -1.372239e-01\n",
       "exempt_land         -7.524395e+09\n",
       "taxable_land        -1.790181e+11\n",
       "taxable_building    -4.000553e+11\n",
       "exempt_building     -4.190553e+11"
      ]
     },
     "execution_count": 21,
     "metadata": {},
     "output_type": "execute_result"
    }
   ],
   "source": [
    "# Look at variables with the most impact on the models\n",
    "correlated_variables = X.columns\n",
    "pd.DataFrame({'Magnitude': model.coef_[0]}, index=[correlated_variables]).sort_values('Magnitude',ascending=False)"
   ]
  },
  {
   "cell_type": "code",
   "execution_count": null,
   "metadata": {},
   "outputs": [],
   "source": []
  }
 ],
 "metadata": {
  "kernelspec": {
   "display_name": "Python [conda env:PythonAdv]",
   "language": "python",
   "name": "conda-env-PythonAdv-py"
  },
  "language_info": {
   "codemirror_mode": {
    "name": "ipython",
    "version": 3
   },
   "file_extension": ".py",
   "mimetype": "text/x-python",
   "name": "python",
   "nbconvert_exporter": "python",
   "pygments_lexer": "ipython3",
   "version": "3.6.13"
  }
 },
 "nbformat": 4,
 "nbformat_minor": 4
}
